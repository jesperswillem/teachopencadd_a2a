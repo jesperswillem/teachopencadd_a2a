{
 "cells": [
  {
   "cell_type": "markdown",
   "metadata": {
    "id": "Rc3gPsMdLgmK"
   },
   "source": [
    "# T019 · Molecular dynamics simulation\n",
    "\n",
    "Authors:\n",
    "\n",
    "- Pietro Gerletti, CADD seminar 2020, Charité/FU Berlin\n",
    "- Mareike Leja, 2020/21, Internship at [Volkamer Lab, Charité](https://volkamerlab.org/)\n",
    "- Jeffrey R Wagner, 2020, [Open Force Field Consortium](https://openforcefield.org/)\n",
    "- David Schaller, 2020/21, [Volkamer Lab, Charité](https://volkamerlab.org/)\n",
    "- Andrea Volkamer, 2020/21, [Volkamer Lab, Charité](https://volkamerlab.org/)"
   ]
  },
  {
   "cell_type": "markdown",
   "metadata": {
    "id": "ehs-GJfkwUap"
   },
   "source": [
    "__Note__\n",
    "\n",
    "This talktorial was designed to be used with [Google Colab](https://colab.research.google.com/github/volkamerlab/teachopencadd/blob/1bd7cb0c9f6379aebc0c1a0b1c7413685910cffa/teachopencadd/talktorials/019_md_simulation/talktorial.ipynb). It is also possible to use it on a local computer. However, performing the molecular dynamics simulation may take a considerably long time if no GPU is available.\n",
    "\n",
    "Also, note that this talktorial **will not run on Windows** for the time being (check progress in [this issue](https://github.com/volkamerlab/teachopencadd/issues/136))."
   ]
  },
  {
   "cell_type": "markdown",
   "metadata": {
    "id": "v0WOINBLExEO"
   },
   "source": [
    "## Aim of this talktorial"
   ]
  },
  {
   "cell_type": "markdown",
   "metadata": {
    "id": "ETO2kR5CE6-E"
   },
   "source": [
    "In this talktorial, we will learn why molecular dynamics (MD) simulations are important for drug design and which steps are necessary to perform an MD simulation of a protein in complex with a ligand. The kinase EGFR will serve as sample system for simulation."
   ]
  },
  {
   "cell_type": "markdown",
   "metadata": {
    "id": "1KVizU3UVCxF"
   },
   "source": [
    "### Contents in *Theory*\n",
    "\n",
    "- Molecular dynamics\n",
    "- Force fields\n",
    "- Boundary conditions\n",
    "- MD simulations and drug design\n",
    "- EGFR kinase"
   ]
  },
  {
   "cell_type": "markdown",
   "metadata": {
    "id": "kdamNfk7VCxF"
   },
   "source": [
    "### Contents in *Practical*\n",
    "\n",
    "- Installation on Google Colab\n",
    "- Adjust environment for local installations running on Linux or MacOS\n",
    "- Import dependencies\n",
    "- Download PDB file\n",
    "- Prepare the protein ligand complex\n",
    "  - Protein preparation\n",
    "  - Ligand preparation\n",
    "  - Merge protein and ligand\n",
    "- MD simulation set up\n",
    "  - Force field\n",
    "  - System\n",
    "- Perform the MD simulation\n",
    "- Download results"
   ]
  },
  {
   "cell_type": "markdown",
   "metadata": {
    "id": "mNvsYi3OLgmU"
   },
   "source": [
    "### References\n",
    "\n",
    "- Review on the impact of MD simulations in drug discovery ([_J Med Chem_ (2016), **59**(9), 4035‐4061](https://doi.org/10.1021/acs.jmedchem.5b01684))\n",
    "- Review on the physics behind MD simulations and best practices ([_Living J Comp Mol Sci_ (2019), **1**(1), 5957](https://doi.org/10.33011/livecoms.1.1.5957))\n",
    "- Review on force fields ([_J Chem Inf Model_ (2018), **58**(3), 565-578](https://doi.org/10.1021/acs.jcim.8b00042))\n",
    "- Review on EGFR in cancer ([_Cancers (Basel)_ (2017), **9**(5), 52](https://dx.doi.org/10.3390%2Fcancers9050052))\n",
    "- Summarized statistical knowledge from Pierre-Simon Laplace ([Théorie Analytique des Probabilités _Gauthier-Villars_ (1820), **3**)](https://archive.org/details/uvrescompltesde31fragoog/page/n15/mode/2up)\n",
    "- Inspired by a notebook form Jaime Rodríguez-Guerra ([github](https://github.com/jaimergp/uab-msc-bioinf/blob/master/MD%20Simulation%20and%20Analysis%20in%20a%20Notebook.ipynb))\n",
    "- Repositories of [OpenMM](https://github.com/openmm/openmm) and [OpenMM Forcefields](https://github.com/openmm/openmmforcefields), [RDKit](https://github.com/rdkit/rdkit), [PyPDB](https://github.com/williamgilpin/pypdb), [MDTraj](https://github.com/mdtraj/mdtraj), [PDBFixer](https://github.com/openmm/pdbfixer)\n",
    "- Wikipedia articles about [MD simulations](https://en.wikipedia.org/wiki/Molecular_dynamics), [AMBER](https://en.wikipedia.org/wiki/AMBER) and [force fields](https://en.wikipedia.org/wiki/Force_field_(chemistry)) in general"
   ]
  },
  {
   "cell_type": "markdown",
   "metadata": {
    "id": "WpSLhe8ZLgmd"
   },
   "source": [
    "## Theory"
   ]
  },
  {
   "cell_type": "markdown",
   "metadata": {
    "id": "lxhBZyifLgmm"
   },
   "source": [
    "### Molecular dynamics"
   ]
  },
  {
   "cell_type": "markdown",
   "metadata": {
    "id": "svQEDsBCwUa5"
   },
   "source": [
    "Molecular dynamics is a computational method analyzing the movements and interactions of atoms and molecules of a defined system. The method stems from theoretical physics, where it was developed in the 1950s (Alder and Wainwright in [_J Chem Phys_ (1959), **31**(2), 459](https://doi.org/10.1063/1.1730376)), although the ideas behind it can be dated much earlier:\n",
    "\n",
    "> An intelligence which could, at  any moment, comprehend all the forces by  which nature is animated and the  respective positions of the  beings of which it is  composed, and moreover, if this intelligence were far-reaching enough to subject these data to  analysis, it would encompass in that formula both the movements of the  largest bodies in  the universe and those of the lightest atom: to it nothing would be uncertain, and the  future, as well as the past, would be present to its eyes. The human mind offers us, in the perfection which it has  given to  astronomy, a faint sketch of this intelligence. (Pierre-Simon Laplace, 1820)\n"
   ]
  },
  {
   "cell_type": "markdown",
   "metadata": {
    "id": "kLgNBvtIm7S3"
   },
   "source": [
    "Let us just take this statement by Laplace as the ideological substrate underneath molecular dynamics simulations. In other terms, we can approximate the behavior of a physical system by knowing the characteristics of its components and applying Newton's laws of motion. By solving the equations of motion, we can obtain a molecular trajectory of the system, which is a series of snapshots with the positions and velocities of all its particles, as well as its potential energy. To do so, we define functions, called force fields, which provide an approximate description of all the forces applied to each particle in the system. We then use numerical integrators to solve the initial value problem for the system and obtain the trajectory. As it sounds, the process requires quite a bit of processing power and it was only few years ago that MD started seeing a more widespread use, especially in the field of computational chemistry and biology, as well as in drug discovery ([_J Med Chem_ (2016), **59**(9), 4035‐4061](https://doi.org/10.1021/acs.jmedchem.5b01684))."
   ]
  },
  {
   "cell_type": "markdown",
   "metadata": {
    "id": "yXlInBPrwUa6"
   },
   "source": [
    "![MD_rotor_250K_1ns.gif](https://github.com/volkamerlab/teachopencadd/raw/d1ded86bb2c82ef088cc5145d0bcb997f6eab7dd/teachopencadd/talktorials/018_md_simulation/images/MD_rotor_250K_1ns.gif)\n",
    "\n",
    "**Figure 1**: Molecular dynamics simulation of the rotation of a supramolecule composed of three molecules in a confined nanoscopic pore (Palma et al. via [Wikimedia](https://commons.wikimedia.org/w/index.php?curid=34866205))."
   ]
  },
  {
   "cell_type": "markdown",
   "metadata": {
    "id": "8-uCG3KPwUa8"
   },
   "source": [
    "### Force fields\n",
    "\n"
   ]
  },
  {
   "cell_type": "markdown",
   "metadata": {
    "id": "NC8t-i-cwUbB"
   },
   "source": [
    "Force fields describe the forces between atoms within and between molecules. They are parametric equations with components for different forces (bond stretching, van-der-Waals and more). The parameter values are usually derived experimentally and change for each MD scenario, depending on the molecules involved and the simulation settings. The result is a mathematical description of the energy landscape of the system, in which the forces acting on each particle result from the gradient of the potential energy with respect to the coordinates of the atoms.\n",
    "\n",
    "Several force fields are available, each with its own characteristics ([_J Chem Inf Model_ (2018), **58**(3), 565-578](https://doi.org/10.1021/acs.jcim.8b00042)). In this notebook, we will use a member of the AMBER force field family, which are widely used for MD simulations of proteins. Their functional form is:\n",
    "\n",
    "$$V(r^N) = \\sum_{i \\in  bonds}k_{bi} (l_i-l^0_i)^2 + \\sum_{i \\in  angles}k_{ai}(\\theta_i - \\theta^0_i)^2 + \\sum_{i\\in torsions} \\sum_n \\frac{1}{2} V_i^n[1+cos(nw_i-\\gamma_i)]$$\n",
    "$$+ \\sum_{j=1}^{N-1}\\sum_{I=j+1}^{N} f_{ij}\\in ij [(\\frac{r^0_{ij}}{r_{ij}})^{12}-2(\\frac{r^0_{ij}}{r_{ij}})^{6}]+\\frac{q_iq_j}{4\\pi \\in_0 r_{ij}}$$"
   ]
  },
  {
   "cell_type": "markdown",
   "metadata": {
    "id": "pjSsc4l-wUbB"
   },
   "source": [
    "The formula consists of a sum of different components. The first three components contain information about bond lengths, angles and torsions (intramolecular forces). The last component describes intermolecular, non-bonded forces like van-der-Waals forces and electrostatic interactions. The various parameters, denoted by a superscript 0, depend on the force field used and vary between all members of the AMBER force field family. Note that these force fields assume fixed-charge particles and do not allow polarization, nor do they consider how a local charge influences its surroundings. \n",
    "\n",
    "The following visual representation of force fields components shows the same concepts in a more intuitive way."
   ]
  },
  {
   "cell_type": "markdown",
   "metadata": {
    "id": "6aDDjIqYwUbC"
   },
   "source": [
    "![MM_PEF.png](https://github.com/volkamerlab/teachopencadd/raw/d1ded86bb2c82ef088cc5145d0bcb997f6eab7dd/teachopencadd/talktorials/018_md_simulation/images/MM_PEF.png)\n",
    "\n",
    "**Figure 2**: Components of a molecular mechanics force field (Edboas via [Wikimedia](https://commons.wikimedia.org/w/index.php?curid=4194424))."
   ]
  },
  {
   "cell_type": "markdown",
   "metadata": {
    "id": "3J7LdqzKB0PM"
   },
   "source": [
    "### Boundary conditions\n",
    "\n",
    "Often, molecular systems are simulated in a box filled with solvent such as water. These boxes are of finite size, which results in problems for molecules at or near the box boundaries. With which molecules should those interact? Periodic boundary conditions can avoid such boundary artifacts by simulating a theoretically infinite system. Molecules at one boundary of the box thereby interact with molecules at the boundary on the other side of the box. This mimics a situation, in which the simulation box is surrounded by replicas of itself. When visualizing such MD simulations, one can often observe that particles leave the box at one side (Fig. 3). However, they re-appear at the same time on the other side of the box with the same velocity. For simulations under periodic boundary conditions, it is recommended to use a simulation box large enough, so that the simulated macromolecule does not come into contact with neighboring images of itself."
   ]
  },
  {
   "cell_type": "markdown",
   "metadata": {
    "id": "fdnT_He0VCxF"
   },
   "source": [
    "![MD_water.gif](https://github.com/volkamerlab/teachopencadd/raw/d1ded86bb2c82ef088cc5145d0bcb997f6eab7dd/teachopencadd/talktorials/018_md_simulation/images/MD_water.gif)\n",
    "\n",
    "**Figure 3**: Molecular dynamics simulation of water molecules with periodic boundary conditions (Kmckiern via [Wikimedia](https://commons.wikimedia.org/wiki/File:MD_water.gif))."
   ]
  },
  {
   "cell_type": "markdown",
   "metadata": {
    "id": "zjcLLVbKNt-F"
   },
   "source": [
    "### MD simulations and drug design\n",
    "\n",
    "MD simulations give valuable insights into the highly dynamic process of ligand binding to their target. When a ligand (or a drug) approaches a macromolecule (protein) in solution, it encounters a structure in constant motion. Also, ligands may induce conformational changes in the macromolecule that can best accommodate the small molecule. Such conformations may not be discovered with static methods. Accordingly, binding sites that are not observed in static ligand-free structures, but can be discovered with MD simulations, are sometimes called *cryptic binding sites* ([_J Med Chem_ (2016), **59**(9), 4035‐4061](https://doi.org/10.1021/acs.jmedchem.5b01684)). The identification of such binding sites with MD simulation can kickstart new drug discovery campaigns. Later in the drug discovery process, MD simulations can also be used to estimate the quality of computationally identified small molecules before performing more costly and time-intensive *in vitro* tests. Altogether, MD simulations pose a valuable asset in computational drug design."
   ]
  },
  {
   "cell_type": "markdown",
   "metadata": {
    "id": "z-ZEaeB2n4hg"
   },
   "source": [
    "### EGFR kinase\n",
    "\n",
    "The **E**pidermal **G**rowth **F**actor **R**eceptor (EGFR) is an important drug target with implications in cancer and inflammation ([Wikipedia](https://en.wikipedia.org/wiki/Epidermal_growth_factor_receptor)). It is a transmembrane protein with an extracellular receptor domain and an intracellular kinase domain. The binding of the endogenous ligand epidermal growth factor results in activation of the kinase domain via dimerization and autophosphorylation. The activated kinase domain can then phosphorylate downstream signaling proteins triggering DNA synthesis and cell proliferation ([_Cancers (Basel)_ (2017), **9**(5), 52](https://dx.doi.org/10.3390%2Fcancers9050052)). Inhibition of this kinase is the underlying mechanism of action of several already approved cancer drugs ([DrugBank](https://go.drugbank.com/bio_entities/BE0000767)). In this talktorial, we use the PDB structure **3POZ** of this kinase, which is in complex with the small molecule inhibitor **03P**, to perform an MD simulation ([PDB: 3POZ](https://www.rcsb.org/structure/3poz))."
   ]
  },
  {
   "cell_type": "markdown",
   "metadata": {
    "id": "fARXaAnzwUau"
   },
   "source": [
    "![3poz_assembly-1.jpeg](https://github.com/volkamerlab/teachopencadd/raw/ed3b2b6b655589d71355295af4c89363a63558b9/teachopencadd/talktorials/018_md_simulation/images/3poz_assembly-1.jpeg)\n",
    "\n",
    "**Figure 4**: Structure 3POZ of the EGFR kinase domain bound to inhibitor 03P ([PDB: 3POZ](https://www.rcsb.org/structure/3poz))."
   ]
  },
  {
   "cell_type": "markdown",
   "metadata": {
    "id": "dkhvXl0HLgnb"
   },
   "source": [
    "## Practical\n",
    "\n",
    "We will now proceed to perform an MD simulation using the molecular dynamics engine [OpenMM](https://github.com/openmm/openmm), a high performance toolkit for molecular simulation. It is open source and can be used as application or library. We will use it as Python library."
   ]
  },
  {
   "cell_type": "markdown",
   "metadata": {
    "id": "7I_BbH58n4h2"
   },
   "source": [
    "### Installation on Google Colab\n",
    "\n",
    "The following code cells will install all required packages, if you are working on [Google Colab](https://colab.research.google.com/notebooks/intro.ipynb). Installing the [condacolab](https://github.com/jaimergp/condacolab) package will restart the kernel, which is intended. This notebook can also be used on a local computer but requires considerable computing power."
   ]
  },
  {
   "cell_type": "code",
   "execution_count": 1,
   "metadata": {
    "colab": {
     "base_uri": "https://localhost:8080/"
    },
    "id": "K78GGT60Nu8p",
    "outputId": "40251762-3bfd-474a-8dda-c030b2a22b1d"
   },
   "outputs": [],
   "source": [
    "try:\n",
    "    import google.colab\n",
    "    !pip install condacolab\n",
    "    import condacolab\n",
    "    condacolab.install()\n",
    "except ModuleNotFoundError:\n",
    "    pass"
   ]
  },
  {
   "cell_type": "code",
   "execution_count": 2,
   "metadata": {
    "colab": {
     "base_uri": "https://localhost:8080/"
    },
    "id": "VbqoZFShp00I",
    "outputId": "0f44a9dd-0cfd-49bc-dd46-969b50c2a9e8"
   },
   "outputs": [],
   "source": [
    "try:\n",
    "    import condacolab\n",
    "    from google.colab import files\n",
    "    from IPython.display import clear_output\n",
    "    condacolab.check()\n",
    "    !conda install -q -y -c conda-forge mdtraj openmm openmmforcefields openff-toolkit pdbfixer pypdb rdkit\n",
    "except ModuleNotFoundError:\n",
    "    on_colab = False\n",
    "else:\n",
    "    #check if installation was succesful\n",
    "    try:\n",
    "        import rdkit\n",
    "        on_colab = True\n",
    "        clear_output()  # clear the excessive installation outputs\n",
    "        print(\"Dependencies successfully installed!\")\n",
    "    except ModuleNotFoundError:\n",
    "        print(\"Error while installing dependencies!\")"
   ]
  },
  {
   "cell_type": "markdown",
   "metadata": {},
   "source": [
    "### Adjust environment for local installations running on Linux or MacOS"
   ]
  },
  {
   "cell_type": "code",
   "execution_count": 3,
   "metadata": {},
   "outputs": [
    {
     "name": "stdout",
     "output_type": "stream",
     "text": [
      "Collecting package metadata (current_repodata.json): ...working... done\n",
      "Solving environment: ...working... done\n",
      "\n",
      "## Package Plan ##\n",
      "\n",
      "  environment location: /home/willem/miniconda3/envs/teachopencadd_a2a\n",
      "\n",
      "  added / updated specs:\n",
      "    - openmmforcefields\n",
      "\n",
      "\n",
      "The following packages will be downloaded:\n",
      "\n",
      "    package                    |            build\n",
      "    ---------------------------|-----------------\n",
      "    ambertools-21.11           |   py38hfd5a1b6_0        89.3 MB  conda-forge\n",
      "    arpack-3.7.0               |       hdefa2d7_2         215 KB  conda-forge\n",
      "    certifi-2021.10.8          |   py38h578d9bd_1         145 KB  conda-forge\n",
      "    cython-0.29.24             |   py38h709712a_1         2.2 MB  conda-forge\n",
      "    netcdf-fortran-4.5.3       |nompi_h07fda46_105         1.3 MB  conda-forge\n",
      "    openff-forcefields-2.0.0   |     pyh6c4a22f_0         100 KB  conda-forge\n",
      "    openff-toolkit-0.10.1      |     pyhd8ed1ab_0           6 KB  conda-forge\n",
      "    openff-toolkit-base-0.10.1 |     pyhd8ed1ab_0        28.3 MB  conda-forge\n",
      "    openmmforcefields-0.10.0   |     pyhd8ed1ab_0         2.6 MB  conda-forge\n",
      "    packmol-20.010             |       h86c2bf4_0         129 KB  conda-forge\n",
      "    parmed-3.4.3               |   py38h709712a_1         968 KB  conda-forge\n",
      "    perl-5.32.1                | 1_h7f98852_perl5        14.4 MB  conda-forge\n",
      "    smirnoff99frosst-1.1.0     |     pyh44b312d_0          34 KB  conda-forge\n",
      "    tinydb-4.5.2               |     pyhd8ed1ab_0          23 KB  conda-forge\n",
      "    xmltodict-0.12.0           |             py_0          11 KB  conda-forge\n",
      "    xorg-libxt-1.2.1           |       h7f98852_2         375 KB  conda-forge\n",
      "    ------------------------------------------------------------\n",
      "                                           Total:       140.0 MB\n",
      "\n",
      "The following NEW packages will be INSTALLED:\n",
      "\n",
      "  ambertools         conda-forge/linux-64::ambertools-21.11-py38hfd5a1b6_0\n",
      "  arpack             conda-forge/linux-64::arpack-3.7.0-hdefa2d7_2\n",
      "  cython             conda-forge/linux-64::cython-0.29.24-py38h709712a_1\n",
      "  netcdf-fortran     conda-forge/linux-64::netcdf-fortran-4.5.3-nompi_h07fda46_105\n",
      "  openff-forcefields conda-forge/noarch::openff-forcefields-2.0.0-pyh6c4a22f_0\n",
      "  openff-toolkit     conda-forge/noarch::openff-toolkit-0.10.1-pyhd8ed1ab_0\n",
      "  openff-toolkit-ba~ conda-forge/noarch::openff-toolkit-base-0.10.1-pyhd8ed1ab_0\n",
      "  openmmforcefields  conda-forge/noarch::openmmforcefields-0.10.0-pyhd8ed1ab_0\n",
      "  packmol            conda-forge/linux-64::packmol-20.010-h86c2bf4_0\n",
      "  parmed             conda-forge/linux-64::parmed-3.4.3-py38h709712a_1\n",
      "  perl               conda-forge/linux-64::perl-5.32.1-1_h7f98852_perl5\n",
      "  smirnoff99frosst   conda-forge/noarch::smirnoff99frosst-1.1.0-pyh44b312d_0\n",
      "  tinydb             conda-forge/noarch::tinydb-4.5.2-pyhd8ed1ab_0\n",
      "  xmltodict          conda-forge/noarch::xmltodict-0.12.0-py_0\n",
      "  xorg-libxt         conda-forge/linux-64::xorg-libxt-1.2.1-h7f98852_2\n",
      "\n",
      "The following packages will be UPDATED:\n",
      "\n",
      "  certifi                          2021.10.8-py38h578d9bd_0 --> 2021.10.8-py38h578d9bd_1\n",
      "\n",
      "\n",
      "Preparing transaction: ...working... done\n",
      "Verifying transaction: ...working... done\n",
      "Executing transaction: ...working... done\n"
     ]
    }
   ],
   "source": [
    "import sys\n",
    "if not on_colab and sys.platform.startswith((\"linux\", \"darwin\")):\n",
    "    !conda install -q -y -c conda-forge openmmforcefields"
   ]
  },
  {
   "cell_type": "markdown",
   "metadata": {},
   "source": [
    "### Import dependencies"
   ]
  },
  {
   "cell_type": "code",
   "execution_count": 4,
   "metadata": {
    "colab": {
     "base_uri": "https://localhost:8080/"
    },
    "id": "3g6vsWucLgng",
    "outputId": "daef1613-b0bf-4929-d5ed-8c3137151645"
   },
   "outputs": [
    {
     "name": "stderr",
     "output_type": "stream",
     "text": [
      "Warning: importing 'simtk.openmm' is deprecated.  Import 'openmm' instead.\n",
      "Warning: Unable to load toolkit 'OpenEye Toolkit'. The Open Force Field Toolkit does not require the OpenEye Toolkits, and can use RDKit/AmberTools instead. However, if you have a valid license for the OpenEye Toolkits, consider installing them for faster performance and additional file format support: https://docs.eyesopen.com/toolkits/python/quickstart-python/linuxosx.html OpenEye offers free Toolkit licenses for academics: https://www.eyesopen.com/academic-licensing\n"
     ]
    }
   ],
   "source": [
    "import copy\n",
    "from pathlib import Path\n",
    "\n",
    "import requests\n",
    "from IPython.display import display\n",
    "import numpy as np\n",
    "from rdkit import Chem\n",
    "from rdkit.Chem import Draw\n",
    "from rdkit.Chem import AllChem\n",
    "import mdtraj as md\n",
    "import pdbfixer\n",
    "import simtk.openmm as mm\n",
    "import simtk.openmm.app as app\n",
    "from simtk.openmm import unit\n",
    "from openff.toolkit.topology import Molecule, Topology\n",
    "from openmmforcefields.generators import GAFFTemplateGenerator"
   ]
  },
  {
   "cell_type": "code",
   "execution_count": 5,
   "metadata": {
    "id": "w5g1k527SexH"
   },
   "outputs": [],
   "source": [
    "# create data directory if not exists\n",
    "HERE = Path(_dh[-1])\n",
    "DATA = HERE / \"data\"\n",
    "DATA.mkdir(exist_ok=True)"
   ]
  },
  {
   "cell_type": "markdown",
   "metadata": {
    "id": "ltkfdrHvn4iI"
   },
   "source": [
    "### Download PDB file\n",
    "The Protein Data Bank ([PDB](https://www.rcsb.org/)) allows for easy downloading of files via url."
   ]
  },
  {
   "cell_type": "code",
   "execution_count": 6,
   "metadata": {
    "id": "Ecabaj2Y9kte"
   },
   "outputs": [],
   "source": [
    "pdbid = \"4EIY\"\n",
    "ligand_name = \"ZMA\"\n",
    "pdb_path = DATA / f\"{pdbid}.pdb\"\n",
    "pdb_url = f\"https://files.rcsb.org/download/{pdbid}.pdb\""
   ]
  },
  {
   "cell_type": "code",
   "execution_count": 7,
   "metadata": {},
   "outputs": [],
   "source": [
    "r = requests.get(pdb_url)\n",
    "r.raise_for_status()\n",
    "with open(pdb_path, \"wb\") as f:\n",
    "    f.write(r.content)"
   ]
  },
  {
   "cell_type": "markdown",
   "metadata": {
    "id": "krsfBvoenaYu"
   },
   "source": [
    "### Prepare the protein ligand complex"
   ]
  },
  {
   "cell_type": "markdown",
   "metadata": {
    "id": "t3mGSg8LLgop"
   },
   "source": [
    "#### Protein preparation\n",
    "\n",
    "A crucial part for successful simulation is a correct and complete system. Crystallographic structures retrieved from the Protein Data Bank often miss atoms, mainly hydrogens, and may contain non-standard residues. In this talktorial, we will use the Python package [PDBFixer](https://github.com/openmm/pdbfixer) to prepare the protein structure. However, co-crystallized ligands are not handled well by [PDBFixer](https://github.com/openmm/pdbfixer) and will thus be prepared separately."
   ]
  },
  {
   "cell_type": "code",
   "execution_count": 8,
   "metadata": {
    "id": "pA9Vct0iNRhl"
   },
   "outputs": [],
   "source": [
    "def prepare_protein(\n",
    "    pdb_file, ignore_missing_residues=True, ignore_terminal_missing_residues=True, ph=7.0\n",
    "):\n",
    "    \"\"\"\n",
    "    Use pdbfixer to prepare the protein from a PDB file. Hetero atoms such as ligands are\n",
    "    removed and non-standard residues replaced. Missing atoms to existing residues are added.\n",
    "    Missing residues are ignored by default, but can be included.\n",
    "\n",
    "    Parameters\n",
    "    ----------\n",
    "    pdb_file: pathlib.Path or str\n",
    "        PDB file containing the system to simulate.\n",
    "    ignore_missing_residues: bool, optional\n",
    "        If missing residues should be ignored or built.\n",
    "    ignore_terminal_missing_residues: bool, optional\n",
    "        If missing residues at the beginning and the end of a chain should be ignored or built.\n",
    "    ph: float, optional\n",
    "        pH value used to determine protonation state of residues\n",
    "\n",
    "    Returns\n",
    "    -------\n",
    "    fixer: pdbfixer.pdbfixer.PDBFixer\n",
    "        Prepared protein system.\n",
    "    \"\"\"\n",
    "    fixer = pdbfixer.PDBFixer(str(pdb_file))\n",
    "    fixer.removeHeterogens()  # co-crystallized ligands are unknown to PDBFixer\n",
    "    fixer.findMissingResidues()  # identify missing residues, needed for identification of missing atoms\n",
    "\n",
    "    # if missing terminal residues shall be ignored, remove them from the dictionary\n",
    "    if ignore_terminal_missing_residues:\n",
    "        chains = list(fixer.topology.chains())\n",
    "        keys = fixer.missingResidues.keys()\n",
    "        for key in list(keys):\n",
    "            chain = chains[key[0]]\n",
    "            if key[1] == 0 or key[1] == len(list(chain.residues())):\n",
    "                del fixer.missingResidues[key]\n",
    "\n",
    "    # if all missing residues shall be ignored ignored, clear the dictionary\n",
    "    if ignore_missing_residues:\n",
    "        fixer.missingResidues = {}\n",
    "\n",
    "    fixer.findNonstandardResidues()  # find non-standard residue\n",
    "    fixer.replaceNonstandardResidues()  # replace non-standard residues with standard one\n",
    "    fixer.findMissingAtoms()  # find missing heavy atoms\n",
    "    fixer.addMissingAtoms()  # add missing atoms and residues\n",
    "    fixer.addMissingHydrogens(ph)  # add missing hydrogens\n",
    "    return fixer"
   ]
  },
  {
   "cell_type": "code",
   "execution_count": 9,
   "metadata": {
    "id": "bxuyg-oxOtvn"
   },
   "outputs": [],
   "source": [
    "# prepare protein and build only missing non-terminal residues\n",
    "prepared_protein = prepare_protein(pdb_path, ignore_missing_residues=False)"
   ]
  },
  {
   "cell_type": "markdown",
   "metadata": {
    "id": "_wR47KGjnP2O"
   },
   "source": [
    "#### Prepare ligand"
   ]
  },
  {
   "cell_type": "markdown",
   "metadata": {
    "id": "8VoOjhASZ4Jh"
   },
   "source": [
    "After preparing the protein, we turn our attention to the ligand. Again, we need to add hydrogens, but also need to make sure the bond orders are correctly assigned, since some PDB entries may contain errors. We use the Python package [RDKit](https://github.com/rdkit/rdkit), an open source cheminformatics library.\n",
    "We will provide the correct protonation state and bond orders to [RDKit](https://github.com/rdkit/rdkit) via a SMILES string. Uncharged isomeric SMILES strings for each co-crystallized ligand can be found in their respective [PDB](https://www.rcsb.org) entry. The ligand of PDB entry [3POZ](https://www.rcsb.org/structure/3poz) has the name [03P](https://www.rcsb.org/ligand/03P). If a ligand is likely to bind in its charged form or as a specific tautomer, such characteristics need to be incorporated into the SMILES string."
   ]
  },
  {
   "cell_type": "code",
   "execution_count": 10,
   "metadata": {
    "id": "si7ARKHoabal"
   },
   "outputs": [],
   "source": [
    "def prepare_ligand(pdb_file, resname, smiles, depict=True):\n",
    "    \"\"\"\n",
    "    Prepare a ligand from a PDB file via adding hydrogens and assigning bond orders. A depiction\n",
    "    of the ligand before and after preparation is rendered in 2D to allow an inspection of the\n",
    "    results. Huge thanks to @j-wags for the suggestion.\n",
    "\n",
    "    Parameters\n",
    "    ----------\n",
    "    pdb_file: pathlib.PosixPath\n",
    "       PDB file containing the ligand of interest.\n",
    "    resname: str\n",
    "        Three character residue name of the ligand.\n",
    "    smiles : str\n",
    "        SMILES string of the ligand informing about correct protonation and bond orders.\n",
    "    depict: bool, optional\n",
    "        show a 2D representation of the ligand\n",
    "\n",
    "    Returns\n",
    "    -------\n",
    "    prepared_ligand: rdkit.Chem.rdchem.Mol\n",
    "        Prepared ligand.\n",
    "    \"\"\"\n",
    "    # split molecule\n",
    "    rdkit_mol = Chem.MolFromPDBFile(str(pdb_file))\n",
    "    rdkit_mol_split = Chem.rdmolops.SplitMolByPDBResidues(rdkit_mol)\n",
    "\n",
    "    # extract the ligand and remove any already present hydrogens\n",
    "    ligand = rdkit_mol_split[resname]\n",
    "    ligand = Chem.RemoveHs(ligand)\n",
    "\n",
    "    # assign bond orders from template\n",
    "    reference_mol = Chem.MolFromSmiles(smiles)\n",
    "    prepared_ligand = AllChem.AssignBondOrdersFromTemplate(reference_mol, ligand)\n",
    "    prepared_ligand.AddConformer(ligand.GetConformer(0))\n",
    "\n",
    "    # protonate ligand\n",
    "    prepared_ligand = Chem.rdmolops.AddHs(prepared_ligand, addCoords=True)\n",
    "\n",
    "    # 2D depiction\n",
    "    if depict:\n",
    "        ligand_2d = copy.deepcopy(ligand)\n",
    "        prepared_ligand_2d = copy.deepcopy(prepared_ligand)\n",
    "        AllChem.Compute2DCoords(ligand_2d)\n",
    "        AllChem.Compute2DCoords(prepared_ligand_2d)\n",
    "        display(\n",
    "            Draw.MolsToGridImage(\n",
    "                [ligand_2d, prepared_ligand_2d], molsPerRow=2, legends=[\"original\", \"prepared\"]\n",
    "            )\n",
    "        )\n",
    "\n",
    "    # return ligand\n",
    "    return prepared_ligand"
   ]
  },
  {
   "cell_type": "markdown",
   "metadata": {
    "id": "GkqslZRknFbq"
   },
   "source": [
    "Calling this function with the isomeric SMILES string taken from the PDB entry for [03P](https://www.rcsb.org/ligand/03P) returns a correctly prepared ligand. Printed is a 2D-representation of the original and the prepared ligand for inspection."
   ]
  },
  {
   "cell_type": "code",
   "execution_count": 11,
   "metadata": {
    "colab": {
     "base_uri": "https://localhost:8080/",
     "height": 217
    },
    "id": "04v75eTlcEtx",
    "outputId": "800d782f-8e3c-40c7-bd2d-3339fc8e8b54"
   },
   "outputs": [
    {
     "data": {
      "image/png": "[encoded data removed]",
      "text/plain": [
       "<IPython.core.display.Image object>"
      ]
     },
     "metadata": {},
     "output_type": "display_data"
    }
   ],
   "source": [
    "smiles = \"c1cc(oc1)c2nc3nc(nc(n3n2)N)NCCc4ccc(cc4)O\"\n",
    "rdkit_ligand = prepare_ligand(pdb_path, ligand_name, smiles)"
   ]
  },
  {
   "cell_type": "markdown",
   "metadata": {
    "id": "NP9WekSTO5N3"
   },
   "source": [
    "#### Merge protein and ligand\n",
    "\n",
    "In the next step, we want to merge the prepared protein and ligand structures using the Python package [MDTraj](https://github.com/mdtraj/mdtraj). [MDTraj](https://github.com/mdtraj/mdtraj) can handle the prepared protein, which is currently a [PDBFixer](https://github.com/openmm/pdbfixer) molecule, a format that has a topology and atom positions similar to and usually interchangeable with [OpenMM Modeller](http://docs.openmm.org/latest/userguide/application.html#model-building-and-editing) topologies and positions. For the ligand however, we need to do several conversions, since it is currently an [RDKit](https://github.com/rdkit/rdkit) molecule."
   ]
  },
  {
   "cell_type": "code",
   "execution_count": 12,
   "metadata": {
    "id": "UwehzZrhpDnD"
   },
   "outputs": [],
   "source": [
    "def rdkit_to_openmm(rdkit_mol, name=\"LIG\"):\n",
    "    \"\"\"\n",
    "    Convert an RDKit molecule to an OpenMM molecule.\n",
    "    Inspired by @hannahbrucemcdonald and @glass-w.\n",
    "\n",
    "    Parameters\n",
    "    ----------\n",
    "    rdkit_mol: rdkit.Chem.rdchem.Mol\n",
    "        RDKit molecule to convert.\n",
    "    name: str\n",
    "        Molecule name.\n",
    "\n",
    "    Returns\n",
    "    -------\n",
    "    omm_molecule: simtk.openmm.app.Modeller\n",
    "        OpenMM modeller object holding the molecule of interest.\n",
    "    \"\"\"\n",
    "    # convert RDKit to OpenFF\n",
    "    off_mol = Molecule.from_rdkit(rdkit_mol)\n",
    "\n",
    "    # add name for molecule\n",
    "    off_mol.name = name\n",
    "\n",
    "    # add names for atoms\n",
    "    element_counter_dict = {}\n",
    "    for off_atom, rdkit_atom in zip(off_mol.atoms, rdkit_mol.GetAtoms()):\n",
    "        element = rdkit_atom.GetSymbol()\n",
    "        if element in element_counter_dict.keys():\n",
    "            element_counter_dict[element] += 1\n",
    "        else:\n",
    "            element_counter_dict[element] = 1\n",
    "        off_atom.name = element + str(element_counter_dict[element])\n",
    "\n",
    "    # convert from OpenFF to OpenMM\n",
    "    off_mol_topology = off_mol.to_topology()\n",
    "    mol_topology = off_mol_topology.to_openmm()\n",
    "    mol_positions = off_mol.conformers[0]\n",
    "\n",
    "    # convert units from Ångström to Nanometers\n",
    "    for atom in mol_positions:\n",
    "        coords = atom / atom.unit\n",
    "        atom = (coords / 10.0) * unit.nanometers  # since openmm works in nm\n",
    "\n",
    "    # combine topology and positions in modeller object\n",
    "    omm_mol = app.Modeller(mol_topology, mol_positions)\n",
    "\n",
    "    return omm_mol"
   ]
  },
  {
   "cell_type": "code",
   "execution_count": 13,
   "metadata": {
    "id": "I77OHmv47vEN"
   },
   "outputs": [],
   "source": [
    "omm_ligand = rdkit_to_openmm(rdkit_ligand, ligand_name)"
   ]
  },
  {
   "cell_type": "markdown",
   "metadata": {
    "id": "dqY5AE0JGIgL"
   },
   "source": [
    "Now protein and ligand are both in [OpenMM](https://github.com/openmm/openmm) like formats and can be merged with [MDTraj](https://github.com/mdtraj/mdtraj)."
   ]
  },
  {
   "cell_type": "code",
   "execution_count": 14,
   "metadata": {
    "id": "8gJMRq8fZYOU"
   },
   "outputs": [],
   "source": [
    "def merge_protein_and_ligand(protein, ligand):\n",
    "    \"\"\"\n",
    "    Merge two OpenMM objects.\n",
    "\n",
    "    Parameters\n",
    "    ----------\n",
    "    protein: pdbfixer.pdbfixer.PDBFixer\n",
    "        Protein to merge.\n",
    "    ligand: simtk.openmm.app.Modeller\n",
    "        Ligand to merge.\n",
    "\n",
    "    Returns\n",
    "    -------\n",
    "    complex_topology: simtk.openmm.app.topology.Topology\n",
    "        The merged topology.\n",
    "    complex_positions: simtk.unit.quantity.Quantity\n",
    "        The merged positions.\n",
    "    \"\"\"\n",
    "    # combine topologies\n",
    "    md_protein_topology = md.Topology.from_openmm(protein.topology)  # using mdtraj for protein top\n",
    "    md_ligand_topology = md.Topology.from_openmm(ligand.topology)  # using mdtraj for ligand top\n",
    "    md_complex_topology = md_protein_topology.join(md_ligand_topology)  # add them together\n",
    "    complex_topology = md_complex_topology.to_openmm()\n",
    "\n",
    "    # combine positions\n",
    "    total_atoms = len(protein.positions) + len(ligand.positions)\n",
    "\n",
    "    # create an array for storing all atom positions as tupels containing a value and a unit\n",
    "    # called OpenMM Quantities\n",
    "    complex_positions = unit.Quantity(np.zeros([total_atoms, 3]), unit=unit.nanometers)\n",
    "    complex_positions[: len(protein.positions)] = protein.positions  # add protein positions\n",
    "    complex_positions[len(protein.positions) :] = ligand.positions  # add ligand positions\n",
    "\n",
    "    return complex_topology, complex_positions"
   ]
  },
  {
   "cell_type": "code",
   "execution_count": 15,
   "metadata": {
    "id": "ZXmeeV0ZPOho"
   },
   "outputs": [
    {
     "name": "stdout",
     "output_type": "stream",
     "text": [
      "Complex topology has 6722 atoms.\n"
     ]
    }
   ],
   "source": [
    "complex_topology, complex_positions = merge_protein_and_ligand(prepared_protein, omm_ligand)\n",
    "print(\"Complex topology has\", complex_topology.getNumAtoms(), \"atoms.\")\n",
    "# NBVAL_CHECK_OUTPUT"
   ]
  },
  {
   "cell_type": "markdown",
   "metadata": {
    "id": "2HAmjMG5Lgpd"
   },
   "source": [
    "### MD simulation set up\n",
    "\n",
    "We can now use the prepared complex to set up the MD simulation. "
   ]
  },
  {
   "cell_type": "markdown",
   "metadata": {
    "id": "1B9DRdICny_f"
   },
   "source": [
    "#### Force field\n",
    "\n",
    "Common force fields like AMBER have parameters for amino acids, nucleic acids, water and ions and usually offer several options to choose from depending on your aim. We use the `amber14-all.xml` force field file, which is shipped with OpenMM and includes parameters for proteins, DNA, RNA and lipids. For solvation we use the standard three-site [water model](https://en.wikipedia.org/wiki/Water_model) [**TIP3P**](https://aip.scitation.org/doi/10.1063/1.445869).\n",
    "\n",
    "Parameters for ligands however are not included. To generate these parameters, we can use the **G**eneral **A**MBER **F**orce**F**ield ([GAFF](http://ambermd.org/antechamber/gaff.html)), which is implemented in the Python package [OpenMM Forcefields](https://github.com/openmm/openmmforcefields). The following function generates a force field object holding standard AMBER parameters and additionally includes parameters for a small molecule if required."
   ]
  },
  {
   "cell_type": "code",
   "execution_count": 16,
   "metadata": {
    "id": "EFHKhU6v1k-h"
   },
   "outputs": [],
   "source": [
    "def generate_forcefield(\n",
    "    rdkit_mol=None, protein_ff=\"amber14-all.xml\", solvent_ff=\"amber14/tip3pfb.xml\"\n",
    "):\n",
    "    \"\"\"\n",
    "    Generate an OpenMM Forcefield object and register a small molecule.\n",
    "\n",
    "    Parameters\n",
    "    ----------\n",
    "    rdkit_mol: rdkit.Chem.rdchem.Mol\n",
    "        Small molecule to register in the force field.\n",
    "    protein_ff: string\n",
    "        Name of the force field.\n",
    "    solvent_ff: string\n",
    "        Name of the solvent force field.\n",
    "\n",
    "    Returns\n",
    "    -------\n",
    "    forcefield: simtk.openmm.app.Forcefield\n",
    "        Forcefield with registered small molecule.\n",
    "    \"\"\"\n",
    "    forcefield = app.ForceField(protein_ff, solvent_ff)\n",
    "\n",
    "    if rdkit_mol is not None:\n",
    "        gaff = GAFFTemplateGenerator(\n",
    "            molecules=Molecule.from_rdkit(rdkit_mol, allow_undefined_stereo=True)\n",
    "        )\n",
    "        forcefield.registerTemplateGenerator(gaff.generator)\n",
    "\n",
    "    return forcefield"
   ]
  },
  {
   "cell_type": "code",
   "execution_count": 17,
   "metadata": {
    "id": "5is-oVrO2Fjy"
   },
   "outputs": [],
   "source": [
    "forcefield = generate_forcefield(rdkit_ligand)"
   ]
  },
  {
   "cell_type": "markdown",
   "metadata": {
    "id": "cGrreylan6XS"
   },
   "source": [
    "#### System"
   ]
  },
  {
   "cell_type": "markdown",
   "metadata": {
    "id": "DzO12MFp2P48"
   },
   "source": [
    "With our configured force field we can now  use the  [OpenMM Modeller](http://docs.openmm.org/latest/userguide/application.html#model-building-and-editing) class to create the MD environment, a simulation box which contains the complex and is filled with a solvent. The standard solvent is water with a specified amount of ions. The size of the box can be determined in various ways. We define it with a padding, which results in a cubic box with dimensions dependent on the largest dimension of the complex.\n",
    "\n",
    "> Note this step can take a long time, in the order of minutes, depending on your hardware."
   ]
  },
  {
   "cell_type": "code",
   "execution_count": 18,
   "metadata": {
    "id": "c4LEvWMI8ash"
   },
   "outputs": [
    {
     "name": "stderr",
     "output_type": "stream",
     "text": [
      "/bin/bash: /home/willem/miniconda3/envs/teachopencadd_a2a/lib/libtinfo.so.6: no version information available (required by /bin/bash)\n",
      "/bin/bash: /home/willem/miniconda3/envs/teachopencadd_a2a/lib/libtinfo.so.6: no version information available (required by /bin/bash)\n",
      "/bin/bash: /home/willem/miniconda3/envs/teachopencadd_a2a/lib/libtinfo.so.6: no version information available (required by /bin/bash)\n",
      "/bin/bash: /home/willem/miniconda3/envs/teachopencadd_a2a/lib/libtinfo.so.6: no version information available (required by /bin/bash)\n",
      "/bin/bash: /home/willem/miniconda3/envs/teachopencadd_a2a/lib/libtinfo.so.6: no version information available (required by /bin/bash)\n",
      "/bin/bash: /home/willem/miniconda3/envs/teachopencadd_a2a/lib/libtinfo.so.6: no version information available (required by /bin/bash)\n"
     ]
    }
   ],
   "source": [
    "modeller = app.Modeller(complex_topology, complex_positions)\n",
    "modeller.addSolvent(forcefield, padding=1.0 * unit.nanometers, ionicStrength=0.15 * unit.molar)"
   ]
  },
  {
   "cell_type": "markdown",
   "metadata": {
    "id": "TwAEe5d8n4jf"
   },
   "source": [
    "With our solvated system and force field, we can finally create an [OpenMM System](http://docs.openmm.org/development/api-python/generated/openmm.openmm.System.html#openmm.openmm.System) and set up the simulation.\n",
    "Additionally to the system the simulation needs an integrator. An [OpenMM Integrator](http://docs.openmm.org/development/api-python/library.html#integrators) defines a method for simulating a system by integrating the equations of motion. The chosen **Langevin Integrator** uses Langevin equations. A list of all different kinds of integrators can be found in the [OpenMM Docs](http://docs.openmm.org/development/api-python/library.html#integrators). For further insight into the **Langevin Integrator**, we recommend reading about Langevin equations, e.g. on [Wikipedia](https://en.wikipedia.org/wiki/Langevin_equation)."
   ]
  },
  {
   "cell_type": "code",
   "execution_count": 19,
   "metadata": {
    "id": "n52Cmkr4dpI-"
   },
   "outputs": [],
   "source": [
    "system = forcefield.createSystem(modeller.topology, nonbondedMethod=app.PME)\n",
    "integrator = mm.LangevinIntegrator(\n",
    "    300 * unit.kelvin, 1.0 / unit.picoseconds, 2.0 * unit.femtoseconds\n",
    ")\n",
    "simulation = app.Simulation(modeller.topology, system, integrator)\n",
    "simulation.context.setPositions(modeller.positions)"
   ]
  },
  {
   "cell_type": "markdown",
   "metadata": {
    "id": "JwEgrFkILgqL"
   },
   "source": [
    "### Perform the MD simulation\n",
    "Now that everything is set up, we can perform the simulation. We need to set starting positions and minimize the energy of the system to get a low energy starting configuration, which is important to decrease the chance of simulation failures due to severe atom clashes. The energy minimized system is saved."
   ]
  },
  {
   "cell_type": "code",
   "execution_count": 20,
   "metadata": {
    "id": "EgkE1EUGLgqP"
   },
   "outputs": [],
   "source": [
    "simulation.minimizeEnergy()\n",
    "with open(DATA / \"topology.pdb\", \"w\") as pdb_file:\n",
    "    app.PDBFile.writeFile(\n",
    "        simulation.topology,\n",
    "        simulation.context.getState(getPositions=True, enforcePeriodicBox=True).getPositions(),\n",
    "        file=pdb_file,\n",
    "        keepIds=True,\n",
    "    )"
   ]
  },
  {
   "cell_type": "markdown",
   "metadata": {
    "id": "KAwpxWM7ozSo"
   },
   "source": [
    "Once the minimization has finished, we can perform the MD simulation. In this talktorial, we will do a short simulation for illustration. Simulations for research purposes span several nanoseconds, even up to microseconds. We will simulate only 100 ps of molecular dynamics corresponding to 50k steps of 2 fs each. We save molecular \"snapshots\" every 10 ps (5000 steps), for a total of 10 frames. The results are saved in an .xtc file, which contains the coordinates of all the atoms at a given time point. Together with the PDB file of the energy minimized system written before, it gives us all the information needed for later analysis. \n",
    "\n",
    "**Note**: This talktorial will only generate a 20 fs trajectory, if not on Google Colab. However, if you have a good GPU available, you can also increase the simulation time."
   ]
  },
  {
   "cell_type": "code",
   "execution_count": 21,
   "metadata": {
    "id": "E8t-0ZxFLgqh"
   },
   "outputs": [],
   "source": [
    "# output settings\n",
    "if on_colab:\n",
    "    steps = 50000  # corresponds to 100 ps\n",
    "    write_interval = 5000  # write every 10 ps\n",
    "    log_interval = 2500  # log progress to stdout every 5 ps\n",
    "else:\n",
    "    steps = 10  # corresponds to 20 fs\n",
    "    write_interval = 1  # write every 2 fs\n",
    "    log_interval = 1  # log progress to stdout every 2 fs\n",
    "simulation.reporters.append(\n",
    "    md.reporters.XTCReporter(file=str(DATA / \"trajectory.xtc\"), reportInterval=write_interval)\n",
    ")\n",
    "simulation.reporters.append(\n",
    "    app.StateDataReporter(\n",
    "        sys.stdout,\n",
    "        log_interval,\n",
    "        step=True,\n",
    "        potentialEnergy=True,\n",
    "        temperature=True,\n",
    "        progress=True,\n",
    "        remainingTime=True,\n",
    "        speed=True,\n",
    "        totalSteps=steps,\n",
    "        separator=\"\\t\",\n",
    "    )\n",
    ")"
   ]
  },
  {
   "cell_type": "markdown",
   "metadata": {
    "id": "J3gGRFBFozSp"
   },
   "source": [
    "The velocities for all particles in the system are randomly chosen from a distribution at the given temperature. We chose 300 Kelvin, which is some degrees above room temperature.\n",
    "A random seed is generated, but could be explicitly given to reproduce results.\n",
    "\n",
    "Then the simulation is performed by taking the steps defined before."
   ]
  },
  {
   "cell_type": "code",
   "execution_count": 22,
   "metadata": {
    "colab": {
     "base_uri": "https://localhost:8080/"
    },
    "id": "7B7AiVO3fr03",
    "outputId": "1efb21e9-74de-47a4-dce9-961a514175f0"
   },
   "outputs": [
    {
     "name": "stdout",
     "output_type": "stream",
     "text": [
      "#\"Progress (%)\"\t\"Step\"\t\"Potential Energy (kJ/mole)\"\t\"Temperature (K)\"\t\"Speed (ns/day)\"\t\"Time Remaining\"\n",
      "10.0%\t1\t-3576474.0834782664\t287.1874297623628\t0\t--\n",
      "20.0%\t2\t-3531648.765640164\t258.50563861769155\t1.01\t0:01\n",
      "30.0%\t3\t-3473765.131159304\t222.0958064142942\t0.637\t0:01\n",
      "40.0%\t4\t-3416170.632051453\t186.48518730439824\t0.74\t0:01\n",
      "50.0%\t5\t-3380080.344189747\t163.00333231126447\t0.805\t0:01\n",
      "60.0%\t6\t-3353733.9588600267\t147.12237480755186\t0.848\t0:00\n",
      "70.0%\t7\t-3346240.742701485\t142.76331826274483\t0.876\t0:00\n",
      "80.0%\t8\t-3355599.666525097\t148.67017292427303\t0.898\t0:00\n",
      "90.0%\t9\t-3367205.2082395703\t156.94372728993963\t0.917\t0:00\n",
      "100.0%\t10\t-3382356.679450723\t166.7042148058175\t0.933\t0:00\n"
     ]
    }
   ],
   "source": [
    "simulation.context.setVelocitiesToTemperature(300 * unit.kelvin)\n",
    "simulation.step(steps)  # perform the simulation"
   ]
  },
  {
   "cell_type": "code",
   "execution_count": 23,
   "metadata": {},
   "outputs": [
    {
     "data": {
      "text/plain": [
       "True"
      ]
     },
     "execution_count": 23,
     "metadata": {},
     "output_type": "execute_result"
    }
   ],
   "source": [
    "# Check the trajectory exists and is not empty\n",
    "(DATA / \"trajectory.xtc\").stat().st_size > 0\n",
    "# NBVAL_CHECK_OUTPUT"
   ]
  },
  {
   "cell_type": "markdown",
   "metadata": {
    "id": "M_Wf2prXqoif"
   },
   "source": [
    "### Download results\n",
    "\n",
    "You can execute the following cell if you are working on Google Colab to download the MD simulation results."
   ]
  },
  {
   "cell_type": "code",
   "execution_count": 24,
   "metadata": {
    "colab": {
     "base_uri": "https://localhost:8080/",
     "height": 17
    },
    "id": "FfcMX8G1i0RY",
    "outputId": "84b171f2-7ae1-42fd-cce6-9fa34431a88a"
   },
   "outputs": [],
   "source": [
    "if on_colab:\n",
    "    files.download(DATA / \"topology.pdb\")\n",
    "    files.download(DATA / \"trajectory.xtc\")"
   ]
  },
  {
   "cell_type": "markdown",
   "metadata": {
    "id": "aAleBNfKyhCd"
   },
   "source": [
    "## Discussion\n",
    "\n",
    "We have successfully performed an MD simulation of a protein ligand complex. However, we simulated only a considerably short time to keep the execution time of the talktorial short. To address critical questions in drug design, longer simulations are often required.  \n",
    "MD simulations are still too computationally costly to be useful for this purpose. Thus, so-called enhanced sampling methods were developed, that aim to accelerate the conformational sampling. Some of the most common methods are discussed in the **Further reading** section below.   \n",
    "Furthermore, we did not include an equilibration step, which is commonly used to slowly heat up the system from 0 to 300 K before starting the simulation and might be important when simulating more sensitive systems including lipid bilayers. The protonation of ligand and protein was done separately, which is suboptimal, since protonation states of protein residues and ligand affect each other. However, we did not find a free and open-source solution meeting all requirements. Suggestions are very welcome!  \n",
    "If you want to learn how to visualize and analyze the trajectory, you can refer to **Talktorial T020** in this repository."
   ]
  },
  {
   "cell_type": "markdown",
   "metadata": {
    "id": "qFsGM5zEozSq"
   },
   "source": [
    "## Quiz\n",
    "\n",
    "* Which inter- and intramolecular forces are being considered in the AMBER force field? Can you think of any forces not taken into account?\n",
    "* Would you expect to see the exact same simulation results when running the notebook twice with the same parameters?\n",
    "* Try doing a short (10ps, snapshot every 1ps) simulation of a protein without a ligand. You can find a broad variety of structures on [PDB](https://www.rcsb.org/) or you can use the EGFR kinase and remove the ligand."
   ]
  },
  {
   "cell_type": "markdown",
   "metadata": {
    "id": "DYy_qmUJF1W6"
   },
   "source": [
    "## Further reading"
   ]
  },
  {
   "cell_type": "markdown",
   "metadata": {
    "id": "IWYS2Q40u_dl"
   },
   "source": [
    "### Enhanced sampling methods\n",
    "\n",
    "In theory, unbiased MD simulations should be capable of simulating binding and unbinding events of a drug molecule and its macromolecular target. However, the timescale of binding and unbinding events lies in the millisecond to second range. Enhanced sampling methods aim to accelerate the conformational sampling ([_J Med Chem._ 2016, **59(9)**, 4035-61](https://doi.org/10.1021/acs.jmedchem.5b01684)).\n",
    "\n",
    "One of these is **Free energy perturbation (FEP)** (also called alchemical free energy calculation), which computes the free energy difference when going from a state A to another state B. It is often employed in lead optimization to evaluate small modification at the ligand, that may boost the binding affinity for the desired target. The ligand from state A is thereby gradually transformed into the ligand of state B by simulating several intermediate (\"alchemical\") states ([alchemistry](http://www.alchemistry.org/wiki/Main_Page)). \n",
    "\n",
    "Another technique for free-energy calculations is **Umbrella sampling (US)**. US enforces sampling along a collective variable (CV) by performing staged simulations with an energetic bias. The bias usually takes the form of a harmonic potential, hence the term \"umbrella\". Its goal is to sample high-energy regions along the CV. However, the use in drug design is limited by the high computational cost.\n",
    "\n",
    "In contrast, **Steered MD (SMD)** follows a different approach: it applies external forces to the system. Those forces are time-dependent and facilitate the unbinding of the ligand from the target. The SMD calculates the final force exerted on the system. The unbinding force profile can then be used to filter hits from docking calculations and to discriminate active from inactive molecules."
   ]
  }
 ],
 "metadata": {
  "accelerator": "GPU",
  "colab": {
   "collapsed_sections": [],
   "name": "talktorial.ipynb",
   "provenance": [],
   "toc_visible": true
  },
  "kernelspec": {
   "display_name": "Python 3 (ipykernel)",
   "language": "python",
   "name": "python3"
  },
  "language_info": {
   "codemirror_mode": {
    "name": "ipython",
    "version": 3
   },
   "file_extension": ".py",
   "mimetype": "text/x-python",
   "name": "python",
   "nbconvert_exporter": "python",
   "pygments_lexer": "ipython3",
   "version": "3.8.12"
  },
  "widgets": {
   "application/vnd.jupyter.widget-state+json": {
    "state": {},
    "version_major": 2,
    "version_minor": 0
   }
  }
 },
 "nbformat": 4,
 "nbformat_minor": 4
}
