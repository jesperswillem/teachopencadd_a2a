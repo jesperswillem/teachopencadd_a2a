{
 "cells": [
  {
   "cell_type": "markdown",
   "metadata": {},
   "source": [
    "# T001 · Compound data acquisition (ChEMBL)\n",
    "\n",
    "Authors:\n",
    "\n",
    "- Svetlana Leng, CADD seminar 2017, Volkamer lab, Charité/FU Berlin \n",
    "- Paula Junge, CADD seminar 2018, Volkamer lab, Charité/FU Berlin\n",
    "- Dominique Sydow, 2019-2020, [Volkamer lab, Charité](https://volkamerlab.org/)\n",
    "- Andrea Volkamer, 2020, [Volkamer lab, Charité](https://volkamerlab.org/)\n",
    "- Yonghui Chen, 2020, [Volkamer lab, Charité](https://volkamerlab.org/)"
   ]
  },
  {
   "cell_type": "markdown",
   "metadata": {},
   "source": [
    "__Talktorial T001__: This talktorial is part of the TeachOpenCADD pipeline described in the [first TeachOpenCADD paper](https://jcheminf.biomedcentral.com/articles/10.1186/s13321-019-0351-x), comprising of talktorials T001-T010."
   ]
  },
  {
   "cell_type": "markdown",
   "metadata": {},
   "source": [
    "## Aim of this talktorial\n",
    "\n",
    "In this notebook, we will learn more about the ChEMBL database and how to extract data from ChEMBL, i.e. (compound, activity data) pairs for a target of interest. These data sets can be used for many cheminformatics tasks, such as similarity search, clustering or machine learning.\n",
    "\n",
    "Our work here will include finding compounds which were tested against a certain target and filtering available bioactivity data."
   ]
  },
  {
   "cell_type": "markdown",
   "metadata": {},
   "source": [
    "### Contents in *Theory*\n",
    "\n",
    "* ChEMBL database\n",
    "    * ChEMBL web services\n",
    "    * ChEMBL webresource client\n",
    "* Compound activity measures\n",
    "    * IC50 measure\n",
    "    * pIC50 value"
   ]
  },
  {
   "cell_type": "markdown",
   "metadata": {},
   "source": [
    "### Contents in *Practical*\n",
    "    \n",
    "**Goal: Get a list of compounds with bioactivity data for a given target**\n",
    "\n",
    "* Connect to ChEMBL database\n",
    "* Get target data (example: EGFR kinase)\n",
    "    * Fetch and download target data\n",
    "    * Select target ChEMBL ID\n",
    "* Get bioactivity data\n",
    "    * Fetch and download bioactivity data for target\n",
    "    * Preprocess and filter bioactivity data\n",
    "* Get compound data\n",
    "    * Fetch and download compound data\n",
    "    * Preprocess and filter compound data\n",
    "* Output bioactivity-compound data\n",
    "    * Merge bioactivity and compound data, and add pIC50 values\n",
    "    * Draw molecules with highest pIC50\n",
    "    * Freeze bioactivity data to ChEMBL 27\n",
    "    * Write output file"
   ]
  },
  {
   "cell_type": "markdown",
   "metadata": {},
   "source": [
    "### References\n",
    "\n",
    "* ChEMBL bioactivity database: [Gaulton *et al.*, <i>Nucleic Acids Res.</i> (2017), 45(Database issue), D945–D954](https://www.ncbi.nlm.nih.gov/pmc/articles/PMC5210557/)\n",
    "* ChEMBL web services: [Davies *et al.*, <i>Nucleic Acids Res.</i> (2015), <b>43</b>, 612-620](https://academic.oup.com/nar/article/43/W1/W612/2467881) \n",
    "* [ChEMBL web-interface](https://www.ebi.ac.uk/chembl/)\n",
    "*  GitHub [ChEMBL webrescource client](https://github.com/chembl/chembl_webresource_client)\n",
    "* The EBI RDF platform: [Jupp *et al.*, <i>Bioinformatics </i> (2014), 30(9), 1338-9](https://www.ncbi.nlm.nih.gov/pubmed/24413672)\n",
    "* Info on half maximal inhibitory concentration: [(p)IC50](https://en.wikipedia.org/wiki/IC50)\n",
    "* [UniProt website](https://www.uniprot.org/)"
   ]
  },
  {
   "cell_type": "markdown",
   "metadata": {},
   "source": [
    "## Theory"
   ]
  },
  {
   "cell_type": "markdown",
   "metadata": {},
   "source": [
    "### ChEMBL database\n",
    ">\"ChEMBL is a manually curated database of bioactive molecules with drug-like properties. It brings together chemical, bioactivity and genomic data to aid the translation of genomic information into effective new drugs.\" ([ChEMBL website](https://www.ebi.ac.uk/chembl/))\n",
    "\n",
    "* Open large-scale bioactivity database\n",
    "* **Current data content (as of 09.2020, ChEMBL 27):**\n",
    "    * \\>1.9 million distinct compounds\n",
    "    * \\>16 million activity values\n",
    "    * Assays are mapped to ~13,000 targets\n",
    "* **Data sources** include scientific literature, PubChem bioassays, Drugs for Neglected Diseases Initiative (DNDi), BindingDB database, ...\n",
    "* ChEMBL data can be accessed via a [web-interface](https://www.ebi.ac.uk/chembl/), the [EBI-RDF platform](https://www.ncbi.nlm.nih.gov/pubmed/24413672) and the [ChEMBL webrescource client](https://github.com/chembl/chembl_webresource_client)"
   ]
  },
  {
   "cell_type": "markdown",
   "metadata": {},
   "source": [
    "#### ChEMBL web services\n",
    "\n",
    "* RESTful web service\n",
    "* ChEMBL web service version 2.x resource schema: \n",
    "\n",
    "![ChEMBL web service schema](images/chembl_webservices_schema_diagram.jpg)\n",
    "\n",
    "*Figure 1:* \n",
    "\"[ChEMBL web service schema diagram](https://www.ncbi.nlm.nih.gov/pmc/articles/PMC4489243/figure/F2/). The oval shapes represent ChEMBL web service resources and the line between two resources indicates that they share a common attribute. The arrow direction shows where the primary information about a resource type can be found. A dashed line indicates the relationship between two resources behaves differently. For example, the `Image` resource provides a graphical based representation of a `Molecule`.\"\n",
    "Figure and description taken from: [<i>Nucleic Acids Res.</i> (2015), <b>43</b>, 612-620](https://academic.oup.com/nar/article/43/W1/W612/2467881)."
   ]
  },
  {
   "cell_type": "markdown",
   "metadata": {},
   "source": [
    "#### ChEMBL webresource client\n",
    "\n",
    "* Python client library for accessing ChEMBL data\n",
    "* Handles interaction with the HTTPS protocol\n",
    "* Lazy evaluation of results -> reduced number of network requests"
   ]
  },
  {
   "cell_type": "markdown",
   "metadata": {},
   "source": [
    "### Compound activity measures"
   ]
  },
  {
   "cell_type": "markdown",
   "metadata": {},
   "source": [
    "#### IC50 measure\n",
    "\n",
    "* [Half maximal inhibitory concentration](https://en.wikipedia.org/wiki/IC50)\n",
    "* Indicates how much of a particular drug or other substance is needed to inhibit a given biological process by half\n",
    "\n",
    "![Wiki_Example_IC50_curve_demonstrating_visually_how_IC50_is_derived](images/Wiki_Example_IC50_curve_demonstrating_visually_how_IC50_is_derived.png)\n",
    "\n",
    "*Figure 2:* Visual demonstration of how to derive an IC50 value: \n",
    "(i) Arrange inhibition data on y-axis and log(concentration) on x-axis. (ii) Identify maximum and minimum inhibition. (iii) The IC50 is the concentration at which the curve passes through the 50% inhibition level. Figure [\"Example IC50 curve demonstrating visually how IC50 is derived\"](https://en.wikipedia.org/wiki/IC50#/media/File:Example_IC50_curve_demonstrating_visually_how_IC50_is_derived.png) by JesseAlanGordon is licensed under [CC BY-SA 3.0](https://creativecommons.org/licenses/by-sa/3.0/).\n",
    "\n",
    "We will also use the Ki value in this tutorial: \n",
    "https://www.aatbio.com/resources/faq-frequently-asked-questions/What-is-the-difference-between-Ki-and-IC50-in-enzyme-inhibition#:~:text=The%20value%20Ki%20is%20the,half%20of%20the%20uninhibited%20value."
   ]
  },
  {
   "cell_type": "markdown",
   "metadata": {},
   "source": [
    "#### pIC50 value\n",
    "\n",
    "* To facilitate the comparison of IC50 values, which have a large value range and are given in different units (M, nM, ...), often pIC50 values are used\n",
    "* The pIC50 is the negative log of the IC50 value when converted to molar units: \n",
    "    $ pIC_{50} = -log_{10}(IC_{50}) $, where $ IC_{50}$ is specified in units of M\n",
    "* Higher pIC50 values indicate exponentially greater potency of the drug\n",
    "* Note that the conversion can be adapted to the respective IC50 unit, e.g. for nM: $pIC_{50} = -log_{10}(IC_{50}*10^{-9})= 9-log_{10}(IC_{50}) $\n",
    "\n",
    "Other activity measures:\n",
    "\n",
    "Besides, IC50 and pIC50, other bioactivity measures are used, such as the equilibrium constant [KI](https://en.wikipedia.org/wiki/Equilibrium_constant) and the half maximal effective concentration  [EC50](https://en.wikipedia.org/wiki/EC50).\n",
    "\n",
    "Similarly the Ki value can be converted to a pKi value."
   ]
  },
  {
   "cell_type": "markdown",
   "metadata": {},
   "source": [
    "## Practical\n",
    "\n",
    "In the following, we want to download all molecules that have been tested against our target of interest, the **epidermal growth factor receptor** ([**EGFR**](https://www.uniprot.org/uniprot/P00533)) kinase."
   ]
  },
  {
   "cell_type": "markdown",
   "metadata": {},
   "source": [
    "### Connect to ChEMBL database"
   ]
  },
  {
   "cell_type": "markdown",
   "metadata": {},
   "source": [
    "First, the ChEMBL webresource client as well as other Python libraries are imported."
   ]
  },
  {
   "cell_type": "code",
   "execution_count": 62,
   "metadata": {},
   "outputs": [],
   "source": [
    "import math\n",
    "from pathlib import Path\n",
    "from zipfile import ZipFile\n",
    "from tempfile import TemporaryDirectory\n",
    "\n",
    "import numpy as np\n",
    "import pandas as pd\n",
    "from rdkit.Chem import PandasTools\n",
    "from chembl_webresource_client.new_client import new_client\n",
    "from tqdm.auto import tqdm"
   ]
  },
  {
   "cell_type": "code",
   "execution_count": 63,
   "metadata": {},
   "outputs": [],
   "source": [
    "HERE = Path(_dh[-1])\n",
    "DATA = HERE / \"data\""
   ]
  },
  {
   "cell_type": "markdown",
   "metadata": {},
   "source": [
    "Next, we create resource objects for API access."
   ]
  },
  {
   "cell_type": "code",
   "execution_count": 64,
   "metadata": {},
   "outputs": [],
   "source": [
    "targets_api = new_client.target\n",
    "compounds_api = new_client.molecule\n",
    "bioactivities_api = new_client.activity"
   ]
  },
  {
   "cell_type": "code",
   "execution_count": 65,
   "metadata": {},
   "outputs": [
    {
     "data": {
      "text/plain": [
       "chembl_webresource_client.query_set.QuerySet"
      ]
     },
     "execution_count": 65,
     "metadata": {},
     "output_type": "execute_result"
    }
   ],
   "source": [
    "type(targets_api)"
   ]
  },
  {
   "cell_type": "markdown",
   "metadata": {},
   "source": [
    "### Get target data (EGFR kinase)\n",
    "\n",
    "* Get UniProt ID of the target of interest (EGFR kinase:  [P00533](http://www.uniprot.org/uniprot/P00533)) from [UniProt website](https://www.uniprot.org/)\n",
    "* Use UniProt ID to get target information\n",
    "\n",
    "Select a different UniProt ID, if you are interested in another target."
   ]
  },
  {
   "cell_type": "code",
   "execution_count": 66,
   "metadata": {},
   "outputs": [],
   "source": [
    "uniprot_id = \"P29274\""
   ]
  },
  {
   "cell_type": "markdown",
   "metadata": {},
   "source": [
    "#### Fetch target data from ChEMBL"
   ]
  },
  {
   "cell_type": "code",
   "execution_count": 67,
   "metadata": {},
   "outputs": [
    {
     "name": "stdout",
     "output_type": "stream",
     "text": [
      "The type of the targets is \"<class 'chembl_webresource_client.query_set.QuerySet'>\"\n"
     ]
    }
   ],
   "source": [
    "# Get target information from ChEMBL but restrict it to specified values only\n",
    "targets = targets_api.get(target_components__accession=uniprot_id).only(\n",
    "    \"target_chembl_id\", \"organism\", \"pref_name\", \"target_type\"\n",
    ")\n",
    "print(f'The type of the targets is \"{type(targets)}\"')"
   ]
  },
  {
   "cell_type": "markdown",
   "metadata": {},
   "source": [
    "#### Download target data from ChEMBL\n",
    "\n",
    "The results of the query are stored in `targets`, a `QuerySet`, i.e. the results are not fetched from ChEMBL until we ask for it (here using `pandas.DataFrame.from_records`).\n",
    "\n",
    "More information about the `QuerySet` datatype:\n",
    "\n",
    "> QuerySets are lazy – the act of creating a QuerySet does not involve any database activity. You can stack filters together all day long, and Django will actually not run the query until the QuerySet is evaluated. \n",
    "([querysets-are-lazy](https://docs.djangoproject.com/en/3.0/topics/db/queries/#querysets-are-lazy))"
   ]
  },
  {
   "cell_type": "code",
   "execution_count": 68,
   "metadata": {},
   "outputs": [
    {
     "data": {
      "text/html": [
       "<div>\n",
       "<style scoped>\n",
       "    .dataframe tbody tr th:only-of-type {\n",
       "        vertical-align: middle;\n",
       "    }\n",
       "\n",
       "    .dataframe tbody tr th {\n",
       "        vertical-align: top;\n",
       "    }\n",
       "\n",
       "    .dataframe thead th {\n",
       "        text-align: right;\n",
       "    }\n",
       "</style>\n",
       "<table border=\"1\" class=\"dataframe\">\n",
       "  <thead>\n",
       "    <tr style=\"text-align: right;\">\n",
       "      <th></th>\n",
       "      <th>organism</th>\n",
       "      <th>pref_name</th>\n",
       "      <th>target_chembl_id</th>\n",
       "      <th>target_type</th>\n",
       "    </tr>\n",
       "  </thead>\n",
       "  <tbody>\n",
       "    <tr>\n",
       "      <th>0</th>\n",
       "      <td>Homo sapiens</td>\n",
       "      <td>Adenosine A2a receptor</td>\n",
       "      <td>CHEMBL251</td>\n",
       "      <td>SINGLE PROTEIN</td>\n",
       "    </tr>\n",
       "    <tr>\n",
       "      <th>1</th>\n",
       "      <td>Homo sapiens</td>\n",
       "      <td>Adenosine A2a receptor</td>\n",
       "      <td>CHEMBL251</td>\n",
       "      <td>SINGLE PROTEIN</td>\n",
       "    </tr>\n",
       "    <tr>\n",
       "      <th>2</th>\n",
       "      <td>Homo sapiens</td>\n",
       "      <td>Adenosine A2 receptor</td>\n",
       "      <td>CHEMBL2094257</td>\n",
       "      <td>PROTEIN FAMILY</td>\n",
       "    </tr>\n",
       "    <tr>\n",
       "      <th>3</th>\n",
       "      <td>Homo sapiens</td>\n",
       "      <td>Adenosine receptors; A2a &amp; A3</td>\n",
       "      <td>CHEMBL2095213</td>\n",
       "      <td>SELECTIVITY GROUP</td>\n",
       "    </tr>\n",
       "    <tr>\n",
       "      <th>4</th>\n",
       "      <td>Homo sapiens</td>\n",
       "      <td>Adenosine receptors; A1 &amp; A2</td>\n",
       "      <td>CHEMBL2096679</td>\n",
       "      <td>SELECTIVITY GROUP</td>\n",
       "    </tr>\n",
       "    <tr>\n",
       "      <th>5</th>\n",
       "      <td>Homo sapiens</td>\n",
       "      <td>Adenosine receptors; A1 &amp; A2a</td>\n",
       "      <td>CHEMBL2096982</td>\n",
       "      <td>SELECTIVITY GROUP</td>\n",
       "    </tr>\n",
       "    <tr>\n",
       "      <th>6</th>\n",
       "      <td>Homo sapiens</td>\n",
       "      <td>Adenosine receptor</td>\n",
       "      <td>CHEMBL2111329</td>\n",
       "      <td>PROTEIN FAMILY</td>\n",
       "    </tr>\n",
       "    <tr>\n",
       "      <th>7</th>\n",
       "      <td>Homo sapiens</td>\n",
       "      <td>Adenosine receptors; A2a &amp; A2b</td>\n",
       "      <td>CHEMBL4296621</td>\n",
       "      <td>SELECTIVITY GROUP</td>\n",
       "    </tr>\n",
       "  </tbody>\n",
       "</table>\n",
       "</div>"
      ],
      "text/plain": [
       "       organism                       pref_name target_chembl_id  \\\n",
       "0  Homo sapiens          Adenosine A2a receptor        CHEMBL251   \n",
       "1  Homo sapiens          Adenosine A2a receptor        CHEMBL251   \n",
       "2  Homo sapiens           Adenosine A2 receptor    CHEMBL2094257   \n",
       "3  Homo sapiens   Adenosine receptors; A2a & A3    CHEMBL2095213   \n",
       "4  Homo sapiens    Adenosine receptors; A1 & A2    CHEMBL2096679   \n",
       "5  Homo sapiens   Adenosine receptors; A1 & A2a    CHEMBL2096982   \n",
       "6  Homo sapiens              Adenosine receptor    CHEMBL2111329   \n",
       "7  Homo sapiens  Adenosine receptors; A2a & A2b    CHEMBL4296621   \n",
       "\n",
       "         target_type  \n",
       "0     SINGLE PROTEIN  \n",
       "1     SINGLE PROTEIN  \n",
       "2     PROTEIN FAMILY  \n",
       "3  SELECTIVITY GROUP  \n",
       "4  SELECTIVITY GROUP  \n",
       "5  SELECTIVITY GROUP  \n",
       "6     PROTEIN FAMILY  \n",
       "7  SELECTIVITY GROUP  "
      ]
     },
     "execution_count": 68,
     "metadata": {},
     "output_type": "execute_result"
    }
   ],
   "source": [
    "targets = pd.DataFrame.from_records(targets)\n",
    "targets"
   ]
  },
  {
   "cell_type": "markdown",
   "metadata": {},
   "source": [
    "#### Select target (target ChEMBL ID)\n",
    "\n",
    "After checking the entries, we select the first entry as our target of interest:\n",
    "\n",
    "`CHEMBL203`: It is a single protein and represents the human Epidermal growth factor receptor (EGFR, also named erbB1) "
   ]
  },
  {
   "cell_type": "code",
   "execution_count": 69,
   "metadata": {},
   "outputs": [
    {
     "data": {
      "text/plain": [
       "organism                      Homo sapiens\n",
       "pref_name           Adenosine A2a receptor\n",
       "target_chembl_id                 CHEMBL251\n",
       "target_type                 SINGLE PROTEIN\n",
       "Name: 0, dtype: object"
      ]
     },
     "execution_count": 69,
     "metadata": {},
     "output_type": "execute_result"
    }
   ],
   "source": [
    "target = targets.iloc[0]\n",
    "target"
   ]
  },
  {
   "cell_type": "markdown",
   "metadata": {},
   "source": [
    "Save selected ChEMBL ID."
   ]
  },
  {
   "cell_type": "code",
   "execution_count": 70,
   "metadata": {},
   "outputs": [
    {
     "name": "stdout",
     "output_type": "stream",
     "text": [
      "The target ChEMBL ID is CHEMBL251\n"
     ]
    }
   ],
   "source": [
    "chembl_id = target.target_chembl_id\n",
    "print(f\"The target ChEMBL ID is {chembl_id}\")\n",
    "# NBVAL_CHECK_OUTPUT"
   ]
  },
  {
   "cell_type": "markdown",
   "metadata": {},
   "source": [
    "### Get bioactivity data\n",
    "\n",
    "Now, we want to query bioactivity data for the target of interest."
   ]
  },
  {
   "cell_type": "markdown",
   "metadata": {},
   "source": [
    "#### Fetch bioactivity data for the target from ChEMBL"
   ]
  },
  {
   "cell_type": "markdown",
   "metadata": {},
   "source": [
    "In this step, we fetch the bioactivity data and filter it to only consider\n",
    "\n",
    "* human proteins, \n",
    "* bioactivity type IC50, \n",
    "* exact measurements (relation `'='`), and\n",
    "* binding data (assay type `'B'`)."
   ]
  },
  {
   "cell_type": "code",
   "execution_count": 71,
   "metadata": {},
   "outputs": [
    {
     "name": "stdout",
     "output_type": "stream",
     "text": [
      "Length and type of bioactivities object: 4629, <class 'chembl_webresource_client.query_set.QuerySet'>\n"
     ]
    }
   ],
   "source": [
    "bioactivities = bioactivities_api.filter(\n",
    "    target_chembl_id=chembl_id, type=\"Ki\", relation=\"=\", assay_type=\"B\"\n",
    ").only(\n",
    "    \"activity_id\",\n",
    "    \"assay_chembl_id\",\n",
    "    \"assay_description\",\n",
    "    \"assay_type\",\n",
    "    \"molecule_chembl_id\",\n",
    "    \"type\",\n",
    "    \"standard_units\",\n",
    "    \"relation\",\n",
    "    \"standard_value\",\n",
    "    \"target_chembl_id\",\n",
    "    \"target_organism\",\n",
    ")\n",
    "\n",
    "print(f\"Length and type of bioactivities object: {len(bioactivities)}, {type(bioactivities)}\")"
   ]
  },
  {
   "cell_type": "markdown",
   "metadata": {},
   "source": [
    "Our bioactivity set contains 4629 entries, each holding the following information."
   ]
  },
  {
   "cell_type": "code",
   "execution_count": 72,
   "metadata": {},
   "outputs": [
    {
     "name": "stdout",
     "output_type": "stream",
     "text": [
      "Length and type of first element: 13, <class 'dict'>\n"
     ]
    },
    {
     "data": {
      "text/plain": [
       "{'activity_id': 38792,\n",
       " 'assay_chembl_id': 'CHEMBL643209',\n",
       " 'assay_description': 'Displacement of [3H]ZM-241385 from human adenosine A2A receptors expressed in HEK293 cells',\n",
       " 'assay_type': 'B',\n",
       " 'molecule_chembl_id': 'CHEMBL132806',\n",
       " 'relation': '=',\n",
       " 'standard_units': 'nM',\n",
       " 'standard_value': '57.0',\n",
       " 'target_chembl_id': 'CHEMBL251',\n",
       " 'target_organism': 'Homo sapiens',\n",
       " 'type': 'Ki',\n",
       " 'units': 'nM',\n",
       " 'value': '57.0'}"
      ]
     },
     "execution_count": 72,
     "metadata": {},
     "output_type": "execute_result"
    }
   ],
   "source": [
    "print(f\"Length and type of first element: {len(bioactivities[0])}, {type(bioactivities[0])}\")\n",
    "bioactivities[0]"
   ]
  },
  {
   "cell_type": "markdown",
   "metadata": {},
   "source": [
    "#### Download bioactivity data from ChEMBL"
   ]
  },
  {
   "cell_type": "markdown",
   "metadata": {},
   "source": [
    "Finally, we download the `QuerySet` in the form of a `pandas` `DataFrame`. \n",
    "\n",
    "> **Note**: This step should not take more than 2 minutes, if so try to rerun all cells starting from _\"Fetch bioactivity data for the target from ChEMBL\"_ or read this message below:\n",
    "\n",
    "<details>\n",
    "    \n",
    "<summary>Load a local version of the data (in case you encounter any problems while fetching the data)</summary>\n",
    "    \n",
    "If you experience difficulties to query the ChEMBL database, we also provide the resulting dataframe you will construct in the cell below. If you want to use the saved version, use the following code instead to obtain `bioactivities_df`:\n",
    "  \n",
    "```python\n",
    "# replace first line in cell below with this other line\n",
    "bioactivities_df = pd.read_csv(DATA / \"adenosineA2A_bioactivities_CHEMBL27.csv.zip\", index_col=0)\n",
    "```\n",
    "\n",
    "</details>"
   ]
  },
  {
   "cell_type": "code",
   "execution_count": 73,
   "metadata": {},
   "outputs": [
    {
     "name": "stdout",
     "output_type": "stream",
     "text": [
      "DataFrame shape: (4630, 13)\n"
     ]
    },
    {
     "data": {
      "text/html": [
       "<div>\n",
       "<style scoped>\n",
       "    .dataframe tbody tr th:only-of-type {\n",
       "        vertical-align: middle;\n",
       "    }\n",
       "\n",
       "    .dataframe tbody tr th {\n",
       "        vertical-align: top;\n",
       "    }\n",
       "\n",
       "    .dataframe thead th {\n",
       "        text-align: right;\n",
       "    }\n",
       "</style>\n",
       "<table border=\"1\" class=\"dataframe\">\n",
       "  <thead>\n",
       "    <tr style=\"text-align: right;\">\n",
       "      <th></th>\n",
       "      <th>activity_id</th>\n",
       "      <th>assay_chembl_id</th>\n",
       "      <th>assay_description</th>\n",
       "      <th>assay_type</th>\n",
       "      <th>molecule_chembl_id</th>\n",
       "      <th>relation</th>\n",
       "      <th>standard_units</th>\n",
       "      <th>standard_value</th>\n",
       "      <th>target_chembl_id</th>\n",
       "      <th>target_organism</th>\n",
       "      <th>type</th>\n",
       "      <th>units</th>\n",
       "      <th>value</th>\n",
       "    </tr>\n",
       "  </thead>\n",
       "  <tbody>\n",
       "    <tr>\n",
       "      <th>0</th>\n",
       "      <td>38792</td>\n",
       "      <td>CHEMBL643209</td>\n",
       "      <td>Displacement of [3H]ZM-241385 from human adeno...</td>\n",
       "      <td>B</td>\n",
       "      <td>CHEMBL132806</td>\n",
       "      <td>=</td>\n",
       "      <td>nM</td>\n",
       "      <td>57.0</td>\n",
       "      <td>CHEMBL251</td>\n",
       "      <td>Homo sapiens</td>\n",
       "      <td>Ki</td>\n",
       "      <td>nM</td>\n",
       "      <td>57.0</td>\n",
       "    </tr>\n",
       "    <tr>\n",
       "      <th>1</th>\n",
       "      <td>38792</td>\n",
       "      <td>CHEMBL643209</td>\n",
       "      <td>Displacement of [3H]ZM-241385 from human adeno...</td>\n",
       "      <td>B</td>\n",
       "      <td>CHEMBL132806</td>\n",
       "      <td>=</td>\n",
       "      <td>nM</td>\n",
       "      <td>57.0</td>\n",
       "      <td>CHEMBL251</td>\n",
       "      <td>Homo sapiens</td>\n",
       "      <td>Ki</td>\n",
       "      <td>nM</td>\n",
       "      <td>57.0</td>\n",
       "    </tr>\n",
       "    <tr>\n",
       "      <th>2</th>\n",
       "      <td>39908</td>\n",
       "      <td>CHEMBL643209</td>\n",
       "      <td>Displacement of [3H]ZM-241385 from human adeno...</td>\n",
       "      <td>B</td>\n",
       "      <td>CHEMBL336217</td>\n",
       "      <td>=</td>\n",
       "      <td>nM</td>\n",
       "      <td>42.0</td>\n",
       "      <td>CHEMBL251</td>\n",
       "      <td>Homo sapiens</td>\n",
       "      <td>Ki</td>\n",
       "      <td>nM</td>\n",
       "      <td>42.0</td>\n",
       "    </tr>\n",
       "    <tr>\n",
       "      <th>3</th>\n",
       "      <td>41114</td>\n",
       "      <td>CHEMBL643209</td>\n",
       "      <td>Displacement of [3H]ZM-241385 from human adeno...</td>\n",
       "      <td>B</td>\n",
       "      <td>CHEMBL134566</td>\n",
       "      <td>=</td>\n",
       "      <td>nM</td>\n",
       "      <td>60.0</td>\n",
       "      <td>CHEMBL251</td>\n",
       "      <td>Homo sapiens</td>\n",
       "      <td>Ki</td>\n",
       "      <td>nM</td>\n",
       "      <td>60.0</td>\n",
       "    </tr>\n",
       "    <tr>\n",
       "      <th>4</th>\n",
       "      <td>41122</td>\n",
       "      <td>CHEMBL643209</td>\n",
       "      <td>Displacement of [3H]ZM-241385 from human adeno...</td>\n",
       "      <td>B</td>\n",
       "      <td>CHEMBL435022</td>\n",
       "      <td>=</td>\n",
       "      <td>nM</td>\n",
       "      <td>38.0</td>\n",
       "      <td>CHEMBL251</td>\n",
       "      <td>Homo sapiens</td>\n",
       "      <td>Ki</td>\n",
       "      <td>nM</td>\n",
       "      <td>38.0</td>\n",
       "    </tr>\n",
       "  </tbody>\n",
       "</table>\n",
       "</div>"
      ],
      "text/plain": [
       "   activity_id assay_chembl_id  \\\n",
       "0        38792    CHEMBL643209   \n",
       "1        38792    CHEMBL643209   \n",
       "2        39908    CHEMBL643209   \n",
       "3        41114    CHEMBL643209   \n",
       "4        41122    CHEMBL643209   \n",
       "\n",
       "                                   assay_description assay_type  \\\n",
       "0  Displacement of [3H]ZM-241385 from human adeno...          B   \n",
       "1  Displacement of [3H]ZM-241385 from human adeno...          B   \n",
       "2  Displacement of [3H]ZM-241385 from human adeno...          B   \n",
       "3  Displacement of [3H]ZM-241385 from human adeno...          B   \n",
       "4  Displacement of [3H]ZM-241385 from human adeno...          B   \n",
       "\n",
       "  molecule_chembl_id relation standard_units  standard_value target_chembl_id  \\\n",
       "0       CHEMBL132806        =             nM            57.0        CHEMBL251   \n",
       "1       CHEMBL132806        =             nM            57.0        CHEMBL251   \n",
       "2       CHEMBL336217        =             nM            42.0        CHEMBL251   \n",
       "3       CHEMBL134566        =             nM            60.0        CHEMBL251   \n",
       "4       CHEMBL435022        =             nM            38.0        CHEMBL251   \n",
       "\n",
       "  target_organism type units  value  \n",
       "0    Homo sapiens   Ki    nM   57.0  \n",
       "1    Homo sapiens   Ki    nM   57.0  \n",
       "2    Homo sapiens   Ki    nM   42.0  \n",
       "3    Homo sapiens   Ki    nM   60.0  \n",
       "4    Homo sapiens   Ki    nM   38.0  "
      ]
     },
     "execution_count": 73,
     "metadata": {},
     "output_type": "execute_result"
    }
   ],
   "source": [
    "bioactivities_df = pd.read_csv(DATA / \"adenosineA2A_bioactivities_CHEMBL27.csv.zip\", index_col=0)\n",
    "#bioactivities_df = pd.DataFrame.from_records(bioactivities)\n",
    "print(f\"DataFrame shape: {bioactivities_df.shape}\")\n",
    "bioactivities_df.head()"
   ]
  },
  {
   "cell_type": "markdown",
   "metadata": {},
   "source": [
    "Note, that we have columns for `standard_units`/`units` and `standard_values`/`values` - in the following we will use the standardized columns (standardization by ChEMBL). Thus, we drop the other two columns.\n",
    "\n",
    "If we used the `units` and `values` columns, we would need to convert all values with many different units to nM:"
   ]
  },
  {
   "cell_type": "code",
   "execution_count": 74,
   "metadata": {},
   "outputs": [],
   "source": [
    "bioactivities_df.to_csv(DATA / \"adenosineA2A_bioactivities_CHEMBL27.csv.zip\")"
   ]
  },
  {
   "cell_type": "code",
   "execution_count": 75,
   "metadata": {},
   "outputs": [
    {
     "data": {
      "text/plain": [
       "array(['nM', 'uM', \"10'-8M\", \"10'3nM\"], dtype=object)"
      ]
     },
     "execution_count": 75,
     "metadata": {},
     "output_type": "execute_result"
    }
   ],
   "source": [
    "bioactivities_df[\"units\"].unique()"
   ]
  },
  {
   "cell_type": "code",
   "execution_count": 76,
   "metadata": {},
   "outputs": [
    {
     "data": {
      "text/html": [
       "<div>\n",
       "<style scoped>\n",
       "    .dataframe tbody tr th:only-of-type {\n",
       "        vertical-align: middle;\n",
       "    }\n",
       "\n",
       "    .dataframe tbody tr th {\n",
       "        vertical-align: top;\n",
       "    }\n",
       "\n",
       "    .dataframe thead th {\n",
       "        text-align: right;\n",
       "    }\n",
       "</style>\n",
       "<table border=\"1\" class=\"dataframe\">\n",
       "  <thead>\n",
       "    <tr style=\"text-align: right;\">\n",
       "      <th></th>\n",
       "      <th>activity_id</th>\n",
       "      <th>assay_chembl_id</th>\n",
       "      <th>assay_description</th>\n",
       "      <th>assay_type</th>\n",
       "      <th>molecule_chembl_id</th>\n",
       "      <th>relation</th>\n",
       "      <th>standard_units</th>\n",
       "      <th>standard_value</th>\n",
       "      <th>target_chembl_id</th>\n",
       "      <th>target_organism</th>\n",
       "      <th>type</th>\n",
       "    </tr>\n",
       "  </thead>\n",
       "  <tbody>\n",
       "    <tr>\n",
       "      <th>0</th>\n",
       "      <td>38792</td>\n",
       "      <td>CHEMBL643209</td>\n",
       "      <td>Displacement of [3H]ZM-241385 from human adeno...</td>\n",
       "      <td>B</td>\n",
       "      <td>CHEMBL132806</td>\n",
       "      <td>=</td>\n",
       "      <td>nM</td>\n",
       "      <td>57.0</td>\n",
       "      <td>CHEMBL251</td>\n",
       "      <td>Homo sapiens</td>\n",
       "      <td>Ki</td>\n",
       "    </tr>\n",
       "    <tr>\n",
       "      <th>1</th>\n",
       "      <td>38792</td>\n",
       "      <td>CHEMBL643209</td>\n",
       "      <td>Displacement of [3H]ZM-241385 from human adeno...</td>\n",
       "      <td>B</td>\n",
       "      <td>CHEMBL132806</td>\n",
       "      <td>=</td>\n",
       "      <td>nM</td>\n",
       "      <td>57.0</td>\n",
       "      <td>CHEMBL251</td>\n",
       "      <td>Homo sapiens</td>\n",
       "      <td>Ki</td>\n",
       "    </tr>\n",
       "    <tr>\n",
       "      <th>2</th>\n",
       "      <td>39908</td>\n",
       "      <td>CHEMBL643209</td>\n",
       "      <td>Displacement of [3H]ZM-241385 from human adeno...</td>\n",
       "      <td>B</td>\n",
       "      <td>CHEMBL336217</td>\n",
       "      <td>=</td>\n",
       "      <td>nM</td>\n",
       "      <td>42.0</td>\n",
       "      <td>CHEMBL251</td>\n",
       "      <td>Homo sapiens</td>\n",
       "      <td>Ki</td>\n",
       "    </tr>\n",
       "    <tr>\n",
       "      <th>3</th>\n",
       "      <td>41114</td>\n",
       "      <td>CHEMBL643209</td>\n",
       "      <td>Displacement of [3H]ZM-241385 from human adeno...</td>\n",
       "      <td>B</td>\n",
       "      <td>CHEMBL134566</td>\n",
       "      <td>=</td>\n",
       "      <td>nM</td>\n",
       "      <td>60.0</td>\n",
       "      <td>CHEMBL251</td>\n",
       "      <td>Homo sapiens</td>\n",
       "      <td>Ki</td>\n",
       "    </tr>\n",
       "    <tr>\n",
       "      <th>4</th>\n",
       "      <td>41122</td>\n",
       "      <td>CHEMBL643209</td>\n",
       "      <td>Displacement of [3H]ZM-241385 from human adeno...</td>\n",
       "      <td>B</td>\n",
       "      <td>CHEMBL435022</td>\n",
       "      <td>=</td>\n",
       "      <td>nM</td>\n",
       "      <td>38.0</td>\n",
       "      <td>CHEMBL251</td>\n",
       "      <td>Homo sapiens</td>\n",
       "      <td>Ki</td>\n",
       "    </tr>\n",
       "  </tbody>\n",
       "</table>\n",
       "</div>"
      ],
      "text/plain": [
       "   activity_id assay_chembl_id  \\\n",
       "0        38792    CHEMBL643209   \n",
       "1        38792    CHEMBL643209   \n",
       "2        39908    CHEMBL643209   \n",
       "3        41114    CHEMBL643209   \n",
       "4        41122    CHEMBL643209   \n",
       "\n",
       "                                   assay_description assay_type  \\\n",
       "0  Displacement of [3H]ZM-241385 from human adeno...          B   \n",
       "1  Displacement of [3H]ZM-241385 from human adeno...          B   \n",
       "2  Displacement of [3H]ZM-241385 from human adeno...          B   \n",
       "3  Displacement of [3H]ZM-241385 from human adeno...          B   \n",
       "4  Displacement of [3H]ZM-241385 from human adeno...          B   \n",
       "\n",
       "  molecule_chembl_id relation standard_units  standard_value target_chembl_id  \\\n",
       "0       CHEMBL132806        =             nM            57.0        CHEMBL251   \n",
       "1       CHEMBL132806        =             nM            57.0        CHEMBL251   \n",
       "2       CHEMBL336217        =             nM            42.0        CHEMBL251   \n",
       "3       CHEMBL134566        =             nM            60.0        CHEMBL251   \n",
       "4       CHEMBL435022        =             nM            38.0        CHEMBL251   \n",
       "\n",
       "  target_organism type  \n",
       "0    Homo sapiens   Ki  \n",
       "1    Homo sapiens   Ki  \n",
       "2    Homo sapiens   Ki  \n",
       "3    Homo sapiens   Ki  \n",
       "4    Homo sapiens   Ki  "
      ]
     },
     "execution_count": 76,
     "metadata": {},
     "output_type": "execute_result"
    }
   ],
   "source": [
    "bioactivities_df.drop([\"units\", \"value\"], axis=1, inplace=True)\n",
    "bioactivities_df.head()"
   ]
  },
  {
   "cell_type": "markdown",
   "metadata": {},
   "source": [
    "#### Preprocess and filter bioactivity data\n",
    "\n",
    "1. Convert `standard_value`'s datatype from `object` to `float`\n",
    "2. Delete entries with missing values\n",
    "3. Keep only entries with `standard_unit == nM`\n",
    "4. Delete duplicate molecules\n",
    "5. Reset `DataFrame` index\n",
    "6. Rename columns"
   ]
  },
  {
   "cell_type": "markdown",
   "metadata": {},
   "source": [
    "**1. Convert datatype of \"standard_value\" from \"object\" to \"float\"**\n",
    "\n",
    "The field `standard_value` holds standardized (here IC50) values. In order to make these values usable in calculations later on, convert values to floats."
   ]
  },
  {
   "cell_type": "code",
   "execution_count": 77,
   "metadata": {},
   "outputs": [
    {
     "data": {
      "text/plain": [
       "activity_id             int64\n",
       "assay_chembl_id        object\n",
       "assay_description      object\n",
       "assay_type             object\n",
       "molecule_chembl_id     object\n",
       "relation               object\n",
       "standard_units         object\n",
       "standard_value        float64\n",
       "target_chembl_id       object\n",
       "target_organism        object\n",
       "type                   object\n",
       "dtype: object"
      ]
     },
     "execution_count": 77,
     "metadata": {},
     "output_type": "execute_result"
    }
   ],
   "source": [
    "bioactivities_df.dtypes"
   ]
  },
  {
   "cell_type": "code",
   "execution_count": 78,
   "metadata": {},
   "outputs": [
    {
     "data": {
      "text/plain": [
       "activity_id             int64\n",
       "assay_chembl_id        object\n",
       "assay_description      object\n",
       "assay_type             object\n",
       "molecule_chembl_id     object\n",
       "relation               object\n",
       "standard_units         object\n",
       "standard_value        float64\n",
       "target_chembl_id       object\n",
       "target_organism        object\n",
       "type                   object\n",
       "dtype: object"
      ]
     },
     "execution_count": 78,
     "metadata": {},
     "output_type": "execute_result"
    }
   ],
   "source": [
    "bioactivities_df = bioactivities_df.astype({\"standard_value\": \"float64\"})\n",
    "bioactivities_df.dtypes"
   ]
  },
  {
   "cell_type": "markdown",
   "metadata": {},
   "source": [
    "**2. Delete entries with missing values**\n",
    "\n",
    "Use the parameter `inplace=True` to drop values in the current `DataFrame` directly."
   ]
  },
  {
   "cell_type": "code",
   "execution_count": 79,
   "metadata": {},
   "outputs": [
    {
     "name": "stdout",
     "output_type": "stream",
     "text": [
      "DataFrame shape: (4630, 11)\n"
     ]
    }
   ],
   "source": [
    "bioactivities_df.dropna(axis=0, how=\"any\", inplace=True)\n",
    "print(f\"DataFrame shape: {bioactivities_df.shape}\")"
   ]
  },
  {
   "cell_type": "markdown",
   "metadata": {},
   "source": [
    "**3. Keep only entries with \"standard_unit == nM\"** \n",
    "\n",
    "We only want to keep bioactivity entries in `nM`, thus we remove all entries with other units."
   ]
  },
  {
   "cell_type": "code",
   "execution_count": 80,
   "metadata": {},
   "outputs": [
    {
     "name": "stdout",
     "output_type": "stream",
     "text": [
      "Units in downloaded data: ['nM']\n",
      "Number of non-nM entries:    0\n"
     ]
    }
   ],
   "source": [
    "print(f\"Units in downloaded data: {bioactivities_df['standard_units'].unique()}\")\n",
    "print(\n",
    "    f\"Number of non-nM entries:\\\n",
    "    {bioactivities_df[bioactivities_df['standard_units'] != 'nM'].shape[0]}\"\n",
    ")"
   ]
  },
  {
   "cell_type": "code",
   "execution_count": 81,
   "metadata": {},
   "outputs": [
    {
     "name": "stdout",
     "output_type": "stream",
     "text": [
      "Units after filtering: ['nM']\n"
     ]
    }
   ],
   "source": [
    "bioactivities_df = bioactivities_df[bioactivities_df[\"standard_units\"] == \"nM\"]\n",
    "print(f\"Units after filtering: {bioactivities_df['standard_units'].unique()}\")"
   ]
  },
  {
   "cell_type": "code",
   "execution_count": 82,
   "metadata": {},
   "outputs": [
    {
     "name": "stdout",
     "output_type": "stream",
     "text": [
      "DataFrame shape: (4630, 11)\n"
     ]
    }
   ],
   "source": [
    "print(f\"DataFrame shape: {bioactivities_df.shape}\")"
   ]
  },
  {
   "cell_type": "markdown",
   "metadata": {},
   "source": [
    "**4. Delete duplicate molecules**\n",
    "\n",
    "Sometimes the same molecule (`molecule_chembl_id`) has been tested more than once, in this case, we only keep the first one.\n",
    "\n",
    "Note other choices could be to keep the one with the best value or a mean value of all assay results for the respective compound."
   ]
  },
  {
   "cell_type": "code",
   "execution_count": 83,
   "metadata": {},
   "outputs": [
    {
     "name": "stdout",
     "output_type": "stream",
     "text": [
      "DataFrame shape: (3838, 11)\n"
     ]
    }
   ],
   "source": [
    "bioactivities_df.drop_duplicates(\"molecule_chembl_id\", keep=\"first\", inplace=True)\n",
    "print(f\"DataFrame shape: {bioactivities_df.shape}\")"
   ]
  },
  {
   "cell_type": "markdown",
   "metadata": {},
   "source": [
    "**5. Reset \"DataFrame\" index**\n",
    "\n",
    "Since we deleted some rows, but we want to iterate over the index later, we reset the index to be continuous."
   ]
  },
  {
   "cell_type": "code",
   "execution_count": 84,
   "metadata": {},
   "outputs": [
    {
     "data": {
      "text/html": [
       "<div>\n",
       "<style scoped>\n",
       "    .dataframe tbody tr th:only-of-type {\n",
       "        vertical-align: middle;\n",
       "    }\n",
       "\n",
       "    .dataframe tbody tr th {\n",
       "        vertical-align: top;\n",
       "    }\n",
       "\n",
       "    .dataframe thead th {\n",
       "        text-align: right;\n",
       "    }\n",
       "</style>\n",
       "<table border=\"1\" class=\"dataframe\">\n",
       "  <thead>\n",
       "    <tr style=\"text-align: right;\">\n",
       "      <th></th>\n",
       "      <th>activity_id</th>\n",
       "      <th>assay_chembl_id</th>\n",
       "      <th>assay_description</th>\n",
       "      <th>assay_type</th>\n",
       "      <th>molecule_chembl_id</th>\n",
       "      <th>relation</th>\n",
       "      <th>standard_units</th>\n",
       "      <th>standard_value</th>\n",
       "      <th>target_chembl_id</th>\n",
       "      <th>target_organism</th>\n",
       "      <th>type</th>\n",
       "    </tr>\n",
       "  </thead>\n",
       "  <tbody>\n",
       "    <tr>\n",
       "      <th>0</th>\n",
       "      <td>38792</td>\n",
       "      <td>CHEMBL643209</td>\n",
       "      <td>Displacement of [3H]ZM-241385 from human adeno...</td>\n",
       "      <td>B</td>\n",
       "      <td>CHEMBL132806</td>\n",
       "      <td>=</td>\n",
       "      <td>nM</td>\n",
       "      <td>57.0</td>\n",
       "      <td>CHEMBL251</td>\n",
       "      <td>Homo sapiens</td>\n",
       "      <td>Ki</td>\n",
       "    </tr>\n",
       "    <tr>\n",
       "      <th>1</th>\n",
       "      <td>39908</td>\n",
       "      <td>CHEMBL643209</td>\n",
       "      <td>Displacement of [3H]ZM-241385 from human adeno...</td>\n",
       "      <td>B</td>\n",
       "      <td>CHEMBL336217</td>\n",
       "      <td>=</td>\n",
       "      <td>nM</td>\n",
       "      <td>42.0</td>\n",
       "      <td>CHEMBL251</td>\n",
       "      <td>Homo sapiens</td>\n",
       "      <td>Ki</td>\n",
       "    </tr>\n",
       "    <tr>\n",
       "      <th>2</th>\n",
       "      <td>41114</td>\n",
       "      <td>CHEMBL643209</td>\n",
       "      <td>Displacement of [3H]ZM-241385 from human adeno...</td>\n",
       "      <td>B</td>\n",
       "      <td>CHEMBL134566</td>\n",
       "      <td>=</td>\n",
       "      <td>nM</td>\n",
       "      <td>60.0</td>\n",
       "      <td>CHEMBL251</td>\n",
       "      <td>Homo sapiens</td>\n",
       "      <td>Ki</td>\n",
       "    </tr>\n",
       "    <tr>\n",
       "      <th>3</th>\n",
       "      <td>41122</td>\n",
       "      <td>CHEMBL643209</td>\n",
       "      <td>Displacement of [3H]ZM-241385 from human adeno...</td>\n",
       "      <td>B</td>\n",
       "      <td>CHEMBL435022</td>\n",
       "      <td>=</td>\n",
       "      <td>nM</td>\n",
       "      <td>38.0</td>\n",
       "      <td>CHEMBL251</td>\n",
       "      <td>Homo sapiens</td>\n",
       "      <td>Ki</td>\n",
       "    </tr>\n",
       "    <tr>\n",
       "      <th>4</th>\n",
       "      <td>41130</td>\n",
       "      <td>CHEMBL643209</td>\n",
       "      <td>Displacement of [3H]ZM-241385 from human adeno...</td>\n",
       "      <td>B</td>\n",
       "      <td>CHEMBL341376</td>\n",
       "      <td>=</td>\n",
       "      <td>nM</td>\n",
       "      <td>423.0</td>\n",
       "      <td>CHEMBL251</td>\n",
       "      <td>Homo sapiens</td>\n",
       "      <td>Ki</td>\n",
       "    </tr>\n",
       "  </tbody>\n",
       "</table>\n",
       "</div>"
      ],
      "text/plain": [
       "   activity_id assay_chembl_id  \\\n",
       "0        38792    CHEMBL643209   \n",
       "1        39908    CHEMBL643209   \n",
       "2        41114    CHEMBL643209   \n",
       "3        41122    CHEMBL643209   \n",
       "4        41130    CHEMBL643209   \n",
       "\n",
       "                                   assay_description assay_type  \\\n",
       "0  Displacement of [3H]ZM-241385 from human adeno...          B   \n",
       "1  Displacement of [3H]ZM-241385 from human adeno...          B   \n",
       "2  Displacement of [3H]ZM-241385 from human adeno...          B   \n",
       "3  Displacement of [3H]ZM-241385 from human adeno...          B   \n",
       "4  Displacement of [3H]ZM-241385 from human adeno...          B   \n",
       "\n",
       "  molecule_chembl_id relation standard_units  standard_value target_chembl_id  \\\n",
       "0       CHEMBL132806        =             nM            57.0        CHEMBL251   \n",
       "1       CHEMBL336217        =             nM            42.0        CHEMBL251   \n",
       "2       CHEMBL134566        =             nM            60.0        CHEMBL251   \n",
       "3       CHEMBL435022        =             nM            38.0        CHEMBL251   \n",
       "4       CHEMBL341376        =             nM           423.0        CHEMBL251   \n",
       "\n",
       "  target_organism type  \n",
       "0    Homo sapiens   Ki  \n",
       "1    Homo sapiens   Ki  \n",
       "2    Homo sapiens   Ki  \n",
       "3    Homo sapiens   Ki  \n",
       "4    Homo sapiens   Ki  "
      ]
     },
     "execution_count": 84,
     "metadata": {},
     "output_type": "execute_result"
    }
   ],
   "source": [
    "bioactivities_df.reset_index(drop=True, inplace=True)\n",
    "bioactivities_df.head()"
   ]
  },
  {
   "cell_type": "markdown",
   "metadata": {},
   "source": [
    "**6. Rename columns**"
   ]
  },
  {
   "cell_type": "code",
   "execution_count": 85,
   "metadata": {},
   "outputs": [
    {
     "data": {
      "text/html": [
       "<div>\n",
       "<style scoped>\n",
       "    .dataframe tbody tr th:only-of-type {\n",
       "        vertical-align: middle;\n",
       "    }\n",
       "\n",
       "    .dataframe tbody tr th {\n",
       "        vertical-align: top;\n",
       "    }\n",
       "\n",
       "    .dataframe thead th {\n",
       "        text-align: right;\n",
       "    }\n",
       "</style>\n",
       "<table border=\"1\" class=\"dataframe\">\n",
       "  <thead>\n",
       "    <tr style=\"text-align: right;\">\n",
       "      <th></th>\n",
       "      <th>activity_id</th>\n",
       "      <th>assay_chembl_id</th>\n",
       "      <th>assay_description</th>\n",
       "      <th>assay_type</th>\n",
       "      <th>molecule_chembl_id</th>\n",
       "      <th>relation</th>\n",
       "      <th>units</th>\n",
       "      <th>IC50</th>\n",
       "      <th>target_chembl_id</th>\n",
       "      <th>target_organism</th>\n",
       "      <th>type</th>\n",
       "    </tr>\n",
       "  </thead>\n",
       "  <tbody>\n",
       "    <tr>\n",
       "      <th>0</th>\n",
       "      <td>38792</td>\n",
       "      <td>CHEMBL643209</td>\n",
       "      <td>Displacement of [3H]ZM-241385 from human adeno...</td>\n",
       "      <td>B</td>\n",
       "      <td>CHEMBL132806</td>\n",
       "      <td>=</td>\n",
       "      <td>nM</td>\n",
       "      <td>57.0</td>\n",
       "      <td>CHEMBL251</td>\n",
       "      <td>Homo sapiens</td>\n",
       "      <td>Ki</td>\n",
       "    </tr>\n",
       "    <tr>\n",
       "      <th>1</th>\n",
       "      <td>39908</td>\n",
       "      <td>CHEMBL643209</td>\n",
       "      <td>Displacement of [3H]ZM-241385 from human adeno...</td>\n",
       "      <td>B</td>\n",
       "      <td>CHEMBL336217</td>\n",
       "      <td>=</td>\n",
       "      <td>nM</td>\n",
       "      <td>42.0</td>\n",
       "      <td>CHEMBL251</td>\n",
       "      <td>Homo sapiens</td>\n",
       "      <td>Ki</td>\n",
       "    </tr>\n",
       "    <tr>\n",
       "      <th>2</th>\n",
       "      <td>41114</td>\n",
       "      <td>CHEMBL643209</td>\n",
       "      <td>Displacement of [3H]ZM-241385 from human adeno...</td>\n",
       "      <td>B</td>\n",
       "      <td>CHEMBL134566</td>\n",
       "      <td>=</td>\n",
       "      <td>nM</td>\n",
       "      <td>60.0</td>\n",
       "      <td>CHEMBL251</td>\n",
       "      <td>Homo sapiens</td>\n",
       "      <td>Ki</td>\n",
       "    </tr>\n",
       "    <tr>\n",
       "      <th>3</th>\n",
       "      <td>41122</td>\n",
       "      <td>CHEMBL643209</td>\n",
       "      <td>Displacement of [3H]ZM-241385 from human adeno...</td>\n",
       "      <td>B</td>\n",
       "      <td>CHEMBL435022</td>\n",
       "      <td>=</td>\n",
       "      <td>nM</td>\n",
       "      <td>38.0</td>\n",
       "      <td>CHEMBL251</td>\n",
       "      <td>Homo sapiens</td>\n",
       "      <td>Ki</td>\n",
       "    </tr>\n",
       "    <tr>\n",
       "      <th>4</th>\n",
       "      <td>41130</td>\n",
       "      <td>CHEMBL643209</td>\n",
       "      <td>Displacement of [3H]ZM-241385 from human adeno...</td>\n",
       "      <td>B</td>\n",
       "      <td>CHEMBL341376</td>\n",
       "      <td>=</td>\n",
       "      <td>nM</td>\n",
       "      <td>423.0</td>\n",
       "      <td>CHEMBL251</td>\n",
       "      <td>Homo sapiens</td>\n",
       "      <td>Ki</td>\n",
       "    </tr>\n",
       "  </tbody>\n",
       "</table>\n",
       "</div>"
      ],
      "text/plain": [
       "   activity_id assay_chembl_id  \\\n",
       "0        38792    CHEMBL643209   \n",
       "1        39908    CHEMBL643209   \n",
       "2        41114    CHEMBL643209   \n",
       "3        41122    CHEMBL643209   \n",
       "4        41130    CHEMBL643209   \n",
       "\n",
       "                                   assay_description assay_type  \\\n",
       "0  Displacement of [3H]ZM-241385 from human adeno...          B   \n",
       "1  Displacement of [3H]ZM-241385 from human adeno...          B   \n",
       "2  Displacement of [3H]ZM-241385 from human adeno...          B   \n",
       "3  Displacement of [3H]ZM-241385 from human adeno...          B   \n",
       "4  Displacement of [3H]ZM-241385 from human adeno...          B   \n",
       "\n",
       "  molecule_chembl_id relation units   IC50 target_chembl_id target_organism  \\\n",
       "0       CHEMBL132806        =    nM   57.0        CHEMBL251    Homo sapiens   \n",
       "1       CHEMBL336217        =    nM   42.0        CHEMBL251    Homo sapiens   \n",
       "2       CHEMBL134566        =    nM   60.0        CHEMBL251    Homo sapiens   \n",
       "3       CHEMBL435022        =    nM   38.0        CHEMBL251    Homo sapiens   \n",
       "4       CHEMBL341376        =    nM  423.0        CHEMBL251    Homo sapiens   \n",
       "\n",
       "  type  \n",
       "0   Ki  \n",
       "1   Ki  \n",
       "2   Ki  \n",
       "3   Ki  \n",
       "4   Ki  "
      ]
     },
     "execution_count": 85,
     "metadata": {},
     "output_type": "execute_result"
    }
   ],
   "source": [
    "bioactivities_df.rename(\n",
    "    columns={\"standard_value\": \"IC50\", \"standard_units\": \"units\"}, inplace=True\n",
    ")\n",
    "bioactivities_df.head()"
   ]
  },
  {
   "cell_type": "code",
   "execution_count": 86,
   "metadata": {},
   "outputs": [
    {
     "name": "stdout",
     "output_type": "stream",
     "text": [
      "DataFrame shape: (3838, 11)\n"
     ]
    }
   ],
   "source": [
    "print(f\"DataFrame shape: {bioactivities_df.shape}\")"
   ]
  },
  {
   "cell_type": "markdown",
   "metadata": {},
   "source": [
    "We now have a set of **3838** molecule ids with respective Ki values for our target kinase."
   ]
  },
  {
   "cell_type": "markdown",
   "metadata": {},
   "source": [
    "### Get compound data\n",
    "\n",
    "We have a `DataFrame` containing all molecules tested against EGFR (with the respective measured bioactivity). \n",
    "\n",
    "Now, we want to get the molecular structures of the molecules that are linked to respective bioactivity ChEMBL IDs. "
   ]
  },
  {
   "cell_type": "markdown",
   "metadata": {},
   "source": [
    "#### Fetch compound data from ChEMBL\n",
    "\n",
    "Let's have a look at the compounds from ChEMBL which we have defined bioactivity data for: We fetch compound ChEMBL IDs and structures for the compounds linked to our filtered bioactivity data."
   ]
  },
  {
   "cell_type": "code",
   "execution_count": 87,
   "metadata": {},
   "outputs": [],
   "source": [
    "compounds_provider = compounds_api.filter(\n",
    "    molecule_chembl_id__in=list(bioactivities_df[\"molecule_chembl_id\"])\n",
    ").only(\"molecule_chembl_id\", \"molecule_structures\")"
   ]
  },
  {
   "cell_type": "markdown",
   "metadata": {},
   "source": [
    "#### Download compound data from ChEMBL\n",
    "\n",
    "Again, we want to export the `QuerySet` object into a `pandas.DataFrame`. Given the data volume, **this can take some time.** For that reason, we will first obtain the list of records through `tqdm`, so we get a nice progress bar and some ETAs. We can then pass the list of compounds to the DataFrame."
   ]
  },
  {
   "cell_type": "code",
   "execution_count": 88,
   "metadata": {},
   "outputs": [
    {
     "data": {
      "application/vnd.jupyter.widget-view+json": {
       "model_id": "db489e65715347f391c5c784f8c5e1e2",
       "version_major": 2,
       "version_minor": 0
      },
      "text/plain": [
       "  0%|          | 0/3838 [00:00<?, ?it/s]"
      ]
     },
     "metadata": {},
     "output_type": "display_data"
    }
   ],
   "source": [
    "compounds = list(tqdm(compounds_provider))"
   ]
  },
  {
   "cell_type": "code",
   "execution_count": 89,
   "metadata": {},
   "outputs": [
    {
     "name": "stdout",
     "output_type": "stream",
     "text": [
      "DataFrame shape: (3838, 2)\n"
     ]
    }
   ],
   "source": [
    "compounds_df = pd.DataFrame.from_records(\n",
    "    compounds,\n",
    ")\n",
    "print(f\"DataFrame shape: {compounds_df.shape}\")"
   ]
  },
  {
   "cell_type": "code",
   "execution_count": 90,
   "metadata": {},
   "outputs": [
    {
     "data": {
      "text/html": [
       "<div>\n",
       "<style scoped>\n",
       "    .dataframe tbody tr th:only-of-type {\n",
       "        vertical-align: middle;\n",
       "    }\n",
       "\n",
       "    .dataframe tbody tr th {\n",
       "        vertical-align: top;\n",
       "    }\n",
       "\n",
       "    .dataframe thead th {\n",
       "        text-align: right;\n",
       "    }\n",
       "</style>\n",
       "<table border=\"1\" class=\"dataframe\">\n",
       "  <thead>\n",
       "    <tr style=\"text-align: right;\">\n",
       "      <th></th>\n",
       "      <th>molecule_chembl_id</th>\n",
       "      <th>molecule_structures</th>\n",
       "    </tr>\n",
       "  </thead>\n",
       "  <tbody>\n",
       "    <tr>\n",
       "      <th>0</th>\n",
       "      <td>CHEMBL10</td>\n",
       "      <td>{'canonical_smiles': 'C[S+]([O-])c1ccc(-c2nc(-...</td>\n",
       "    </tr>\n",
       "    <tr>\n",
       "      <th>1</th>\n",
       "      <td>CHEMBL411</td>\n",
       "      <td>{'canonical_smiles': 'CC/C(=C(/CC)c1ccc(O)cc1)...</td>\n",
       "    </tr>\n",
       "    <tr>\n",
       "      <th>2</th>\n",
       "      <td>CHEMBL7098</td>\n",
       "      <td>{'canonical_smiles': 'Cn1c2ccccc2n2c(=O)c(-c3c...</td>\n",
       "    </tr>\n",
       "    <tr>\n",
       "      <th>3</th>\n",
       "      <td>CHEMBL269112</td>\n",
       "      <td>{'canonical_smiles': 'Oc1c(-c2cccs2)nnc2nc3ccc...</td>\n",
       "    </tr>\n",
       "    <tr>\n",
       "      <th>4</th>\n",
       "      <td>CHEMBL7608</td>\n",
       "      <td>{'canonical_smiles': 'Oc1c(-c2ccco2)nnc2nc3ccc...</td>\n",
       "    </tr>\n",
       "  </tbody>\n",
       "</table>\n",
       "</div>"
      ],
      "text/plain": [
       "  molecule_chembl_id                                molecule_structures\n",
       "0           CHEMBL10  {'canonical_smiles': 'C[S+]([O-])c1ccc(-c2nc(-...\n",
       "1          CHEMBL411  {'canonical_smiles': 'CC/C(=C(/CC)c1ccc(O)cc1)...\n",
       "2         CHEMBL7098  {'canonical_smiles': 'Cn1c2ccccc2n2c(=O)c(-c3c...\n",
       "3       CHEMBL269112  {'canonical_smiles': 'Oc1c(-c2cccs2)nnc2nc3ccc...\n",
       "4         CHEMBL7608  {'canonical_smiles': 'Oc1c(-c2ccco2)nnc2nc3ccc..."
      ]
     },
     "execution_count": 90,
     "metadata": {},
     "output_type": "execute_result"
    }
   ],
   "source": [
    "compounds_df.head()"
   ]
  },
  {
   "cell_type": "markdown",
   "metadata": {},
   "source": [
    "#### Preprocess and filter compound data\n",
    "\n",
    "1. Remove entries with missing entries\n",
    "2. Delete duplicate molecules (by molecule_chembl_id)\n",
    "3. Get molecules with canonical SMILES"
   ]
  },
  {
   "cell_type": "markdown",
   "metadata": {},
   "source": [
    "**1. Remove entries with missing molecule structure entry**"
   ]
  },
  {
   "cell_type": "code",
   "execution_count": 91,
   "metadata": {},
   "outputs": [
    {
     "name": "stdout",
     "output_type": "stream",
     "text": [
      "DataFrame shape: (3838, 2)\n"
     ]
    }
   ],
   "source": [
    "compounds_df.dropna(axis=0, how=\"any\", inplace=True)\n",
    "print(f\"DataFrame shape: {compounds_df.shape}\")"
   ]
  },
  {
   "cell_type": "markdown",
   "metadata": {},
   "source": [
    "**2. Delete duplicate molecules**"
   ]
  },
  {
   "cell_type": "code",
   "execution_count": 92,
   "metadata": {},
   "outputs": [
    {
     "name": "stdout",
     "output_type": "stream",
     "text": [
      "DataFrame shape: (3838, 2)\n"
     ]
    }
   ],
   "source": [
    "compounds_df.drop_duplicates(\"molecule_chembl_id\", keep=\"first\", inplace=True)\n",
    "print(f\"DataFrame shape: {compounds_df.shape}\")"
   ]
  },
  {
   "cell_type": "markdown",
   "metadata": {},
   "source": [
    "**3. Get molecules with canonical SMILES**\n",
    "\n",
    "So far, we have multiple different molecular structure representations. We only want to keep the canonical SMILES."
   ]
  },
  {
   "cell_type": "code",
   "execution_count": 93,
   "metadata": {},
   "outputs": [
    {
     "data": {
      "text/plain": [
       "dict_keys(['canonical_smiles', 'molfile', 'standard_inchi', 'standard_inchi_key'])"
      ]
     },
     "execution_count": 93,
     "metadata": {},
     "output_type": "execute_result"
    }
   ],
   "source": [
    "compounds_df.iloc[0].molecule_structures.keys()"
   ]
  },
  {
   "cell_type": "code",
   "execution_count": 94,
   "metadata": {},
   "outputs": [
    {
     "name": "stdout",
     "output_type": "stream",
     "text": [
      "DataFrame shape: (3838, 2)\n"
     ]
    }
   ],
   "source": [
    "canonical_smiles = []\n",
    "\n",
    "for i, compounds in compounds_df.iterrows():\n",
    "    try:\n",
    "        canonical_smiles.append(compounds[\"molecule_structures\"][\"canonical_smiles\"])\n",
    "    except KeyError:\n",
    "        canonical_smiles.append(None)\n",
    "\n",
    "compounds_df[\"smiles\"] = canonical_smiles\n",
    "compounds_df.drop(\"molecule_structures\", axis=1, inplace=True)\n",
    "print(f\"DataFrame shape: {compounds_df.shape}\")"
   ]
  },
  {
   "cell_type": "markdown",
   "metadata": {},
   "source": [
    "Sanity check: Remove all molecules without a canonical SMILES string."
   ]
  },
  {
   "cell_type": "code",
   "execution_count": 95,
   "metadata": {},
   "outputs": [
    {
     "name": "stdout",
     "output_type": "stream",
     "text": [
      "DataFrame shape: (3838, 2)\n"
     ]
    }
   ],
   "source": [
    "compounds_df.dropna(axis=0, how=\"any\", inplace=True)\n",
    "print(f\"DataFrame shape: {compounds_df.shape}\")"
   ]
  },
  {
   "cell_type": "markdown",
   "metadata": {},
   "source": [
    "### Output (bioactivity-compound) data\n",
    "**Summary of compound and bioactivity data**"
   ]
  },
  {
   "cell_type": "code",
   "execution_count": 96,
   "metadata": {},
   "outputs": [
    {
     "name": "stdout",
     "output_type": "stream",
     "text": [
      "Bioactivities filtered: 3838\n"
     ]
    },
    {
     "data": {
      "text/plain": [
       "Index(['activity_id', 'assay_chembl_id', 'assay_description', 'assay_type',\n",
       "       'molecule_chembl_id', 'relation', 'units', 'IC50', 'target_chembl_id',\n",
       "       'target_organism', 'type'],\n",
       "      dtype='object')"
      ]
     },
     "execution_count": 96,
     "metadata": {},
     "output_type": "execute_result"
    }
   ],
   "source": [
    "print(f\"Bioactivities filtered: {bioactivities_df.shape[0]}\")\n",
    "bioactivities_df.columns"
   ]
  },
  {
   "cell_type": "code",
   "execution_count": 97,
   "metadata": {},
   "outputs": [
    {
     "name": "stdout",
     "output_type": "stream",
     "text": [
      "Compounds filtered: 3838\n"
     ]
    },
    {
     "data": {
      "text/plain": [
       "Index(['molecule_chembl_id', 'smiles'], dtype='object')"
      ]
     },
     "execution_count": 97,
     "metadata": {},
     "output_type": "execute_result"
    }
   ],
   "source": [
    "print(f\"Compounds filtered: {compounds_df.shape[0]}\")\n",
    "compounds_df.columns"
   ]
  },
  {
   "cell_type": "markdown",
   "metadata": {},
   "source": [
    "#### Merge both datasets\n",
    "\n",
    "Merge values of interest from `bioactivities_df` and `compounds_df` in an `output_df` based on the compounds' ChEMBL IDs (`molecule_chembl_id`), keeping the following columns:\n",
    "\n",
    "* ChEMBL IDs: `molecule_chembl_id`\n",
    "* SMILES: `smiles`\n",
    "* units: `units`\n",
    "* IC50: `IC50`"
   ]
  },
  {
   "cell_type": "code",
   "execution_count": 98,
   "metadata": {},
   "outputs": [
    {
     "name": "stdout",
     "output_type": "stream",
     "text": [
      "Dataset with 3838 entries.\n"
     ]
    }
   ],
   "source": [
    "# Merge DataFrames\n",
    "output_df = pd.merge(\n",
    "    bioactivities_df[[\"molecule_chembl_id\", \"IC50\", \"units\"]],\n",
    "    compounds_df,\n",
    "    on=\"molecule_chembl_id\",\n",
    ")\n",
    "\n",
    "# Reset row indices\n",
    "output_df.reset_index(drop=True, inplace=True)\n",
    "\n",
    "print(f\"Dataset with {output_df.shape[0]} entries.\")"
   ]
  },
  {
   "cell_type": "code",
   "execution_count": 99,
   "metadata": {},
   "outputs": [
    {
     "data": {
      "text/plain": [
       "molecule_chembl_id     object\n",
       "IC50                  float64\n",
       "units                  object\n",
       "smiles                 object\n",
       "dtype: object"
      ]
     },
     "execution_count": 99,
     "metadata": {},
     "output_type": "execute_result"
    }
   ],
   "source": [
    "output_df.dtypes"
   ]
  },
  {
   "cell_type": "code",
   "execution_count": 100,
   "metadata": {},
   "outputs": [
    {
     "data": {
      "text/html": [
       "<div>\n",
       "<style scoped>\n",
       "    .dataframe tbody tr th:only-of-type {\n",
       "        vertical-align: middle;\n",
       "    }\n",
       "\n",
       "    .dataframe tbody tr th {\n",
       "        vertical-align: top;\n",
       "    }\n",
       "\n",
       "    .dataframe thead th {\n",
       "        text-align: right;\n",
       "    }\n",
       "</style>\n",
       "<table border=\"1\" class=\"dataframe\">\n",
       "  <thead>\n",
       "    <tr style=\"text-align: right;\">\n",
       "      <th></th>\n",
       "      <th>molecule_chembl_id</th>\n",
       "      <th>IC50</th>\n",
       "      <th>units</th>\n",
       "      <th>smiles</th>\n",
       "    </tr>\n",
       "  </thead>\n",
       "  <tbody>\n",
       "    <tr>\n",
       "      <th>0</th>\n",
       "      <td>CHEMBL132806</td>\n",
       "      <td>57.00</td>\n",
       "      <td>nM</td>\n",
       "      <td>CC(C)CCn1cc2c(nc(NC(=O)Cc3ccccc3)n3nc(-c4ccco4...</td>\n",
       "    </tr>\n",
       "    <tr>\n",
       "      <th>1</th>\n",
       "      <td>CHEMBL336217</td>\n",
       "      <td>42.00</td>\n",
       "      <td>nM</td>\n",
       "      <td>CC(C)CCn1cc2c(nc(NC(=O)Cc3cccc4ccccc34)n3nc(-c...</td>\n",
       "    </tr>\n",
       "    <tr>\n",
       "      <th>2</th>\n",
       "      <td>CHEMBL134566</td>\n",
       "      <td>60.00</td>\n",
       "      <td>nM</td>\n",
       "      <td>O=C(Cc1ccccc1)Nc1nc2nn(CCCc3ccccc3)cc2c2nc(-c3...</td>\n",
       "    </tr>\n",
       "    <tr>\n",
       "      <th>3</th>\n",
       "      <td>CHEMBL435022</td>\n",
       "      <td>38.00</td>\n",
       "      <td>nM</td>\n",
       "      <td>CC(C)CCn1cc2c(nc(NC(=O)COc3ccccc3)n3nc(-c4ccco...</td>\n",
       "    </tr>\n",
       "    <tr>\n",
       "      <th>4</th>\n",
       "      <td>CHEMBL341376</td>\n",
       "      <td>423.00</td>\n",
       "      <td>nM</td>\n",
       "      <td>Cn1cc2c(nc(NC(=O)Cc3ccccc3)n3nc(-c4ccco4)nc23)n1</td>\n",
       "    </tr>\n",
       "    <tr>\n",
       "      <th>5</th>\n",
       "      <td>CHEMBL138593</td>\n",
       "      <td>45.00</td>\n",
       "      <td>nM</td>\n",
       "      <td>O=C(COc1ccccc1)Nc1nc2nn(CCCc3ccccc3)cc2c2nc(-c...</td>\n",
       "    </tr>\n",
       "    <tr>\n",
       "      <th>6</th>\n",
       "      <td>CHEMBL324735</td>\n",
       "      <td>381.00</td>\n",
       "      <td>nM</td>\n",
       "      <td>Cn1cc2c(nc(NC(=O)Nc3ccccc3)n3nc(-c4ccco4)nc23)n1</td>\n",
       "    </tr>\n",
       "    <tr>\n",
       "      <th>7</th>\n",
       "      <td>CHEMBL16867</td>\n",
       "      <td>0.31</td>\n",
       "      <td>nM</td>\n",
       "      <td>Nc1nc2nn(CCc3ccccc3)cc2c2nc(-c3ccco3)nn12</td>\n",
       "    </tr>\n",
       "    <tr>\n",
       "      <th>8</th>\n",
       "      <td>CHEMBL335950</td>\n",
       "      <td>800.00</td>\n",
       "      <td>nM</td>\n",
       "      <td>O=C(Cc1cccc2ccccc12)Nc1nc2nn(CCCc3ccccc3)cc2c2...</td>\n",
       "    </tr>\n",
       "    <tr>\n",
       "      <th>9</th>\n",
       "      <td>CHEMBL541455</td>\n",
       "      <td>60.00</td>\n",
       "      <td>nM</td>\n",
       "      <td>O=C(Cc1ccccc1)Nc1nc2nn(CCc3ccccc3)cc2c2nc(-c3c...</td>\n",
       "    </tr>\n",
       "  </tbody>\n",
       "</table>\n",
       "</div>"
      ],
      "text/plain": [
       "  molecule_chembl_id    IC50 units  \\\n",
       "0       CHEMBL132806   57.00    nM   \n",
       "1       CHEMBL336217   42.00    nM   \n",
       "2       CHEMBL134566   60.00    nM   \n",
       "3       CHEMBL435022   38.00    nM   \n",
       "4       CHEMBL341376  423.00    nM   \n",
       "5       CHEMBL138593   45.00    nM   \n",
       "6       CHEMBL324735  381.00    nM   \n",
       "7        CHEMBL16867    0.31    nM   \n",
       "8       CHEMBL335950  800.00    nM   \n",
       "9       CHEMBL541455   60.00    nM   \n",
       "\n",
       "                                              smiles  \n",
       "0  CC(C)CCn1cc2c(nc(NC(=O)Cc3ccccc3)n3nc(-c4ccco4...  \n",
       "1  CC(C)CCn1cc2c(nc(NC(=O)Cc3cccc4ccccc34)n3nc(-c...  \n",
       "2  O=C(Cc1ccccc1)Nc1nc2nn(CCCc3ccccc3)cc2c2nc(-c3...  \n",
       "3  CC(C)CCn1cc2c(nc(NC(=O)COc3ccccc3)n3nc(-c4ccco...  \n",
       "4   Cn1cc2c(nc(NC(=O)Cc3ccccc3)n3nc(-c4ccco4)nc23)n1  \n",
       "5  O=C(COc1ccccc1)Nc1nc2nn(CCCc3ccccc3)cc2c2nc(-c...  \n",
       "6   Cn1cc2c(nc(NC(=O)Nc3ccccc3)n3nc(-c4ccco4)nc23)n1  \n",
       "7          Nc1nc2nn(CCc3ccccc3)cc2c2nc(-c3ccco3)nn12  \n",
       "8  O=C(Cc1cccc2ccccc12)Nc1nc2nn(CCCc3ccccc3)cc2c2...  \n",
       "9  O=C(Cc1ccccc1)Nc1nc2nn(CCc3ccccc3)cc2c2nc(-c3c...  "
      ]
     },
     "execution_count": 100,
     "metadata": {},
     "output_type": "execute_result"
    }
   ],
   "source": [
    "output_df.head(10)"
   ]
  },
  {
   "cell_type": "markdown",
   "metadata": {},
   "source": [
    "#### Add pIC50 values"
   ]
  },
  {
   "cell_type": "markdown",
   "metadata": {},
   "source": [
    "As you can see the low IC50 values are difficult to read (values are distributed over multiple scales), which is why we convert the IC50 values to pIC50."
   ]
  },
  {
   "cell_type": "code",
   "execution_count": 101,
   "metadata": {},
   "outputs": [],
   "source": [
    "def convert_ic50_to_pic50(IC50_value):\n",
    "    pIC50_value = 9 - math.log10(IC50_value)\n",
    "    return pIC50_value"
   ]
  },
  {
   "cell_type": "code",
   "execution_count": 102,
   "metadata": {},
   "outputs": [],
   "source": [
    "# Apply conversion to each row of the compounds DataFrame\n",
    "output_df[\"pIC50\"] = output_df.apply(lambda x: convert_ic50_to_pic50(x.IC50), axis=1)"
   ]
  },
  {
   "cell_type": "code",
   "execution_count": 103,
   "metadata": {},
   "outputs": [
    {
     "data": {
      "text/html": [
       "<div>\n",
       "<style scoped>\n",
       "    .dataframe tbody tr th:only-of-type {\n",
       "        vertical-align: middle;\n",
       "    }\n",
       "\n",
       "    .dataframe tbody tr th {\n",
       "        vertical-align: top;\n",
       "    }\n",
       "\n",
       "    .dataframe thead th {\n",
       "        text-align: right;\n",
       "    }\n",
       "</style>\n",
       "<table border=\"1\" class=\"dataframe\">\n",
       "  <thead>\n",
       "    <tr style=\"text-align: right;\">\n",
       "      <th></th>\n",
       "      <th>molecule_chembl_id</th>\n",
       "      <th>IC50</th>\n",
       "      <th>units</th>\n",
       "      <th>smiles</th>\n",
       "      <th>pIC50</th>\n",
       "    </tr>\n",
       "  </thead>\n",
       "  <tbody>\n",
       "    <tr>\n",
       "      <th>0</th>\n",
       "      <td>CHEMBL132806</td>\n",
       "      <td>57.0</td>\n",
       "      <td>nM</td>\n",
       "      <td>CC(C)CCn1cc2c(nc(NC(=O)Cc3ccccc3)n3nc(-c4ccco4...</td>\n",
       "      <td>7.244125</td>\n",
       "    </tr>\n",
       "    <tr>\n",
       "      <th>1</th>\n",
       "      <td>CHEMBL336217</td>\n",
       "      <td>42.0</td>\n",
       "      <td>nM</td>\n",
       "      <td>CC(C)CCn1cc2c(nc(NC(=O)Cc3cccc4ccccc34)n3nc(-c...</td>\n",
       "      <td>7.376751</td>\n",
       "    </tr>\n",
       "    <tr>\n",
       "      <th>2</th>\n",
       "      <td>CHEMBL134566</td>\n",
       "      <td>60.0</td>\n",
       "      <td>nM</td>\n",
       "      <td>O=C(Cc1ccccc1)Nc1nc2nn(CCCc3ccccc3)cc2c2nc(-c3...</td>\n",
       "      <td>7.221849</td>\n",
       "    </tr>\n",
       "    <tr>\n",
       "      <th>3</th>\n",
       "      <td>CHEMBL435022</td>\n",
       "      <td>38.0</td>\n",
       "      <td>nM</td>\n",
       "      <td>CC(C)CCn1cc2c(nc(NC(=O)COc3ccccc3)n3nc(-c4ccco...</td>\n",
       "      <td>7.420216</td>\n",
       "    </tr>\n",
       "    <tr>\n",
       "      <th>4</th>\n",
       "      <td>CHEMBL341376</td>\n",
       "      <td>423.0</td>\n",
       "      <td>nM</td>\n",
       "      <td>Cn1cc2c(nc(NC(=O)Cc3ccccc3)n3nc(-c4ccco4)nc23)n1</td>\n",
       "      <td>6.373660</td>\n",
       "    </tr>\n",
       "  </tbody>\n",
       "</table>\n",
       "</div>"
      ],
      "text/plain": [
       "  molecule_chembl_id   IC50 units  \\\n",
       "0       CHEMBL132806   57.0    nM   \n",
       "1       CHEMBL336217   42.0    nM   \n",
       "2       CHEMBL134566   60.0    nM   \n",
       "3       CHEMBL435022   38.0    nM   \n",
       "4       CHEMBL341376  423.0    nM   \n",
       "\n",
       "                                              smiles     pIC50  \n",
       "0  CC(C)CCn1cc2c(nc(NC(=O)Cc3ccccc3)n3nc(-c4ccco4...  7.244125  \n",
       "1  CC(C)CCn1cc2c(nc(NC(=O)Cc3cccc4ccccc34)n3nc(-c...  7.376751  \n",
       "2  O=C(Cc1ccccc1)Nc1nc2nn(CCCc3ccccc3)cc2c2nc(-c3...  7.221849  \n",
       "3  CC(C)CCn1cc2c(nc(NC(=O)COc3ccccc3)n3nc(-c4ccco...  7.420216  \n",
       "4   Cn1cc2c(nc(NC(=O)Cc3ccccc3)n3nc(-c4ccco4)nc23)n1  6.373660  "
      ]
     },
     "execution_count": 103,
     "metadata": {},
     "output_type": "execute_result"
    }
   ],
   "source": [
    "output_df.head()"
   ]
  },
  {
   "cell_type": "markdown",
   "metadata": {},
   "source": [
    "#### Draw compound data\n",
    "\n",
    "Let's have a look at our collected data set.\n",
    "\n",
    "First, we plot the pIC50 value distribution"
   ]
  },
  {
   "cell_type": "code",
   "execution_count": 104,
   "metadata": {
    "tags": [
     "nbsphinx-thumbnail"
    ]
   },
   "outputs": [
    {
     "data": {
      "text/plain": [
       "array([[<AxesSubplot:title={'center':'pIC50'}>]], dtype=object)"
      ]
     },
     "execution_count": 104,
     "metadata": {},
     "output_type": "execute_result"
    },
    {
     "data": {
      "image/png": "[encoded data removed]",
      "text/plain": [
       "<Figure size 432x288 with 1 Axes>"
      ]
     },
     "metadata": {
      "needs_background": "light"
     },
     "output_type": "display_data"
    }
   ],
   "source": [
    "output_df.hist(column=\"pIC50\")"
   ]
  },
  {
   "cell_type": "markdown",
   "metadata": {},
   "source": [
    "In the next steps, we add a column for RDKit molecule objects to our `DataFrame` and look at the structures of the molecules with the highest pIC50 values. "
   ]
  },
  {
   "cell_type": "code",
   "execution_count": 105,
   "metadata": {},
   "outputs": [],
   "source": [
    "# Add molecule column\n",
    "PandasTools.AddMoleculeColumnToFrame(output_df, smilesCol=\"smiles\")"
   ]
  },
  {
   "cell_type": "code",
   "execution_count": 106,
   "metadata": {},
   "outputs": [],
   "source": [
    "# Sort molecules by pIC50\n",
    "output_df.sort_values(by=\"pIC50\", ascending=False, inplace=True)\n",
    "\n",
    "# Reset index\n",
    "output_df.reset_index(drop=True, inplace=True)"
   ]
  },
  {
   "cell_type": "markdown",
   "metadata": {},
   "source": [
    "Show the three most active molecules, i.e. molecules with the highest pIC50 values."
   ]
  },
  {
   "cell_type": "code",
   "execution_count": 107,
   "metadata": {},
   "outputs": [
    {
     "data": {
      "text/html": [
       "<div>\n",
       "<style scoped>\n",
       "    .dataframe tbody tr th:only-of-type {\n",
       "        vertical-align: middle;\n",
       "    }\n",
       "\n",
       "    .dataframe tbody tr th {\n",
       "        vertical-align: top;\n",
       "    }\n",
       "\n",
       "    .dataframe thead th {\n",
       "        text-align: right;\n",
       "    }\n",
       "</style>\n",
       "<table border=\"1\" class=\"dataframe\">\n",
       "  <thead>\n",
       "    <tr style=\"text-align: right;\">\n",
       "      <th></th>\n",
       "      <th>molecule_chembl_id</th>\n",
       "      <th>IC50</th>\n",
       "      <th>units</th>\n",
       "      <th>pIC50</th>\n",
       "      <th>ROMol</th>\n",
       "    </tr>\n",
       "  </thead>\n",
       "  <tbody>\n",
       "    <tr>\n",
       "      <th>0</th>\n",
       "      <td>CHEMBL2419149</td>\n",
       "      <td>0.0042</td>\n",
       "      <td>nM</td>\n",
       "      <td>11.376751</td>\n",
       "      <td><img data-content=\"rdkit/molecule\" src=\"data:image/png;base64,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\" alt=\"Mol\"/></td>\n",
       "    </tr>\n",
       "    <tr>\n",
       "      <th>1</th>\n",
       "      <td>CHEMBL2419144</td>\n",
       "      <td>0.0047</td>\n",
       "      <td>nM</td>\n",
       "      <td>11.327902</td>\n",
       "      <td><img data-content=\"rdkit/molecule\" src=\"data:image/png;base64,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\" alt=\"Mol\"/></td>\n",
       "    </tr>\n",
       "    <tr>\n",
       "      <th>2</th>\n",
       "      <td>CHEMBL1093479</td>\n",
       "      <td>0.0082</td>\n",
       "      <td>nM</td>\n",
       "      <td>11.086186</td>\n",
       "      <td><img data-content=\"rdkit/molecule\" src=\"data:image/png;base64,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\" alt=\"Mol\"/></td>\n",
       "    </tr>\n",
       "  </tbody>\n",
       "</table>\n",
       "</div>"
      ],
      "text/plain": [
       "  molecule_chembl_id    IC50 units      pIC50  \\\n",
       "0      CHEMBL2419149  0.0042    nM  11.376751   \n",
       "1      CHEMBL2419144  0.0047    nM  11.327902   \n",
       "2      CHEMBL1093479  0.0082    nM  11.086186   \n",
       "\n",
       "                                               ROMol  \n",
       "0  <img data-content=\"rdkit/molecule\" src=\"data:i...  \n",
       "1  <img data-content=\"rdkit/molecule\" src=\"data:i...  \n",
       "2  <img data-content=\"rdkit/molecule\" src=\"data:i...  "
      ]
     },
     "execution_count": 107,
     "metadata": {},
     "output_type": "execute_result"
    }
   ],
   "source": [
    "output_df.drop(\"smiles\", axis=1).head(3)"
   ]
  },
  {
   "cell_type": "code",
   "execution_count": 108,
   "metadata": {},
   "outputs": [
    {
     "name": "stdout",
     "output_type": "stream",
     "text": [
      "DataFrame shape: (3838, 5)\n"
     ]
    }
   ],
   "source": [
    "# Prepare saving the dataset: Drop the ROMol column\n",
    "output_df = output_df.drop(\"ROMol\", axis=1)\n",
    "print(f\"DataFrame shape: {output_df.shape}\")"
   ]
  },
  {
   "cell_type": "markdown",
   "metadata": {
    "tags": []
   },
   "source": [
    "#### Write output data to file\n",
    "\n",
    "We want to use this bioactivity-compound dataset in the following talktorials, thus we save the data as `csv` file. \n",
    "Note that it is advisable to drop the molecule column (which only contains an image of the molecules) when saving the data."
   ]
  },
  {
   "cell_type": "code",
   "execution_count": 109,
   "metadata": {
    "scrolled": true
   },
   "outputs": [
    {
     "data": {
      "text/html": [
       "<div>\n",
       "<style scoped>\n",
       "    .dataframe tbody tr th:only-of-type {\n",
       "        vertical-align: middle;\n",
       "    }\n",
       "\n",
       "    .dataframe tbody tr th {\n",
       "        vertical-align: top;\n",
       "    }\n",
       "\n",
       "    .dataframe thead th {\n",
       "        text-align: right;\n",
       "    }\n",
       "</style>\n",
       "<table border=\"1\" class=\"dataframe\">\n",
       "  <thead>\n",
       "    <tr style=\"text-align: right;\">\n",
       "      <th></th>\n",
       "      <th>molecule_chembl_id</th>\n",
       "      <th>IC50</th>\n",
       "      <th>units</th>\n",
       "      <th>smiles</th>\n",
       "      <th>pIC50</th>\n",
       "    </tr>\n",
       "  </thead>\n",
       "  <tbody>\n",
       "    <tr>\n",
       "      <th>0</th>\n",
       "      <td>CHEMBL2419149</td>\n",
       "      <td>0.0042</td>\n",
       "      <td>nM</td>\n",
       "      <td>N#Cc1sc(=S)n(-c2ccccc2)c1/N=C/c1ccc(Br)cc1</td>\n",
       "      <td>11.376751</td>\n",
       "    </tr>\n",
       "    <tr>\n",
       "      <th>1</th>\n",
       "      <td>CHEMBL2419144</td>\n",
       "      <td>0.0047</td>\n",
       "      <td>nM</td>\n",
       "      <td>N#Cc1sc(=S)n(-c2ccccc2)c1/N=C/c1ccc(F)cc1</td>\n",
       "      <td>11.327902</td>\n",
       "    </tr>\n",
       "    <tr>\n",
       "      <th>2</th>\n",
       "      <td>CHEMBL1093479</td>\n",
       "      <td>0.0082</td>\n",
       "      <td>nM</td>\n",
       "      <td>S=c1sc2c(ncn3nc(-c4ccco4)nc23)n1-c1cccc(I)c1</td>\n",
       "      <td>11.086186</td>\n",
       "    </tr>\n",
       "    <tr>\n",
       "      <th>3</th>\n",
       "      <td>CHEMBL2419139</td>\n",
       "      <td>0.0100</td>\n",
       "      <td>nM</td>\n",
       "      <td>CCn1c(/N=C/c2ccc(Br)cc2)c(C#N)sc1=S</td>\n",
       "      <td>11.000000</td>\n",
       "    </tr>\n",
       "    <tr>\n",
       "      <th>4</th>\n",
       "      <td>CHEMBL1092271</td>\n",
       "      <td>0.0160</td>\n",
       "      <td>nM</td>\n",
       "      <td>C=CCn1c(=S)sc2c1ncn1nc(-c3ccco3)nc21</td>\n",
       "      <td>10.795880</td>\n",
       "    </tr>\n",
       "  </tbody>\n",
       "</table>\n",
       "</div>"
      ],
      "text/plain": [
       "  molecule_chembl_id    IC50 units  \\\n",
       "0      CHEMBL2419149  0.0042    nM   \n",
       "1      CHEMBL2419144  0.0047    nM   \n",
       "2      CHEMBL1093479  0.0082    nM   \n",
       "3      CHEMBL2419139  0.0100    nM   \n",
       "4      CHEMBL1092271  0.0160    nM   \n",
       "\n",
       "                                         smiles      pIC50  \n",
       "0    N#Cc1sc(=S)n(-c2ccccc2)c1/N=C/c1ccc(Br)cc1  11.376751  \n",
       "1     N#Cc1sc(=S)n(-c2ccccc2)c1/N=C/c1ccc(F)cc1  11.327902  \n",
       "2  S=c1sc2c(ncn3nc(-c4ccco4)nc23)n1-c1cccc(I)c1  11.086186  \n",
       "3           CCn1c(/N=C/c2ccc(Br)cc2)c(C#N)sc1=S  11.000000  \n",
       "4          C=CCn1c(=S)sc2c1ncn1nc(-c3ccco3)nc21  10.795880  "
      ]
     },
     "execution_count": 109,
     "metadata": {},
     "output_type": "execute_result"
    }
   ],
   "source": [
    "output_df.to_csv(DATA / \"A2A_compounds.csv\")\n",
    "output_df.head()"
   ]
  },
  {
   "cell_type": "code",
   "execution_count": 110,
   "metadata": {},
   "outputs": [
    {
     "name": "stdout",
     "output_type": "stream",
     "text": [
      "DataFrame shape: (3838, 5)\n"
     ]
    }
   ],
   "source": [
    "print(f\"DataFrame shape: {output_df.shape}\")\n",
    "# NBVAL_CHECK_OUTPUT"
   ]
  },
  {
   "cell_type": "markdown",
   "metadata": {},
   "source": [
    "## Discussion"
   ]
  },
  {
   "cell_type": "markdown",
   "metadata": {},
   "source": [
    "In this tutorial, we collected bioactivity data for our target of interest from the ChEMBL database. \n",
    "We filtered the data set in order to only contain molecules with measured IC50 bioactivity values. \n",
    "\n",
    "Be aware that ChEMBL data originates from various sources. Compound data has been generated in different labs by different people all over the world. Therefore, we have to be cautious with the predictions we make using this data set. It is always important to consider the source of the data and consistency of data production assays when interpreting the results and determining how much confidence we have in our predictions.\n",
    "\n",
    "In the next tutorials, we will filter our acquired data by Lipinski's rule of five and by unwanted substructures. Another important step would be to *clean* the molecular data. As this is not shown in any of our talktorials (yet), we would like to refer to the [Standardiser library](https://github.com/flatkinson/standardiser) or [MolVS](https://molvs.readthedocs.io/en/latest/) as useful tools for this task."
   ]
  },
  {
   "cell_type": "markdown",
   "metadata": {},
   "source": [
    "## Quiz"
   ]
  },
  {
   "cell_type": "markdown",
   "metadata": {},
   "source": [
    "* We have downloaded in this talktorial molecules and bioactivity data from ChEMBL. What else is the ChEMBL database useful for?\n",
    "* What is the difference between IC50 and EC50?\n",
    "* What can we use the data extracted from ChEMBL for?"
   ]
  },
  {
   "cell_type": "code",
   "execution_count": null,
   "metadata": {},
   "outputs": [],
   "source": []
  }
 ],
 "metadata": {
  "kernelspec": {
   "display_name": "Python 3 (ipykernel)",
   "language": "python",
   "name": "python3"
  },
  "language_info": {
   "codemirror_mode": {
    "name": "ipython",
    "version": 3
   },
   "file_extension": ".py",
   "mimetype": "text/x-python",
   "name": "python",
   "nbconvert_exporter": "python",
   "pygments_lexer": "ipython3",
   "version": "3.8.12"
  },
  "toc-autonumbering": true,
  "toc-showmarkdowntxt": false,
  "toc-showtags": false,
  "widgets": {
   "application/vnd.jupyter.widget-state+json": {
    "state": {},
    "version_major": 2,
    "version_minor": 0
   }
  }
 },
 "nbformat": 4,
 "nbformat_minor": 4
}
